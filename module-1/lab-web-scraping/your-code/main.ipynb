{
 "cells": [
  {
   "cell_type": "markdown",
   "metadata": {},
   "source": [
    "# Web Scraping Lab\n",
    "\n",
    "You will find in this notebook some scrapy exercises to practise your scraping skills.\n",
    "\n",
    "**Tips:**\n",
    "\n",
    "- Check the response status code for each request to ensure you have obtained the intended contennt.\n",
    "- Print the response text in each request to understand the kind of info you are getting and its format.\n",
    "- Check for patterns in the response text to extract the data/info requested in each question.\n",
    "- Visit each url and take a look at its source through Chrome DevTools. You'll need to identify the html tags, special class names etc. used for the html content you are expected to extract."
   ]
  },
  {
   "cell_type": "markdown",
   "metadata": {},
   "source": [
    "- [Requests library](http://docs.python-requests.org/en/master/#the-user-guide) documentation \n",
    "- [Beautiful Soup Doc](https://www.crummy.com/software/BeautifulSoup/bs4/doc/)\n",
    "- [Urllib](https://docs.python.org/3/library/urllib.html#module-urllib)\n",
    "- [re lib](https://docs.python.org/3/library/re.html)\n",
    "- [lxml lib](https://lxml.de/)\n",
    "- [Scrapy](https://scrapy.org/)\n",
    "- [List of HTTP status codes](https://en.wikipedia.org/wiki/List_of_HTTP_status_codes)\n",
    "- [HTML basics](http://www.simplehtmlguide.com/cheatsheet.php)\n",
    "- [CSS basics](https://www.cssbasics.com/#page_start)"
   ]
  },
  {
   "cell_type": "markdown",
   "metadata": {},
   "source": [
    "#### Below are the libraries and modules you may need. `requests`,  `BeautifulSoup` and `pandas` are imported for you. If you prefer to use additional libraries feel free to uncomment them."
   ]
  },
  {
   "cell_type": "code",
   "execution_count": 86,
   "metadata": {},
   "outputs": [],
   "source": [
    "import requests\n",
    "from bs4 import BeautifulSoup\n",
    "import pandas as pd\n",
    "from pprint import pprint\n",
    "from lxml import html\n",
    "# from lxml.html import fromstring\n",
    "# import urllib.request\n",
    "# from urllib.request import urlopen\n",
    "import random\n",
    "import re\n"
   ]
  },
  {
   "cell_type": "markdown",
   "metadata": {},
   "source": [
    "#### Download, parse (using BeautifulSoup), and print the content from the Trending Developers page from GitHub:"
   ]
  },
  {
   "cell_type": "code",
   "execution_count": 93,
   "metadata": {},
   "outputs": [],
   "source": [
    "# This is the url you will scrape in this exercise\n",
    "url = 'https://github.com/trending/developers?since=weekly'"
   ]
  },
  {
   "cell_type": "code",
   "execution_count": 113,
   "metadata": {},
   "outputs": [],
   "source": [
    "#your code\n",
    "res = requests.get(url)\n",
    "res.status_code\n",
    "html = res.text\n",
    "soup = BeautifulSoup(html, 'html.parser')\n",
    "#soup"
   ]
  },
  {
   "cell_type": "markdown",
   "metadata": {},
   "source": [
    "#### Display the names of the trending developers retrieved in the previous step.\n",
    "\n",
    "Your output should be a Python list of developer names. Each name should not contain any html tag.\n",
    "\n",
    "**Instructions:**\n",
    "\n",
    "1. Find out the html tag and class names used for the developer names. You can achieve this using Chrome DevTools.\n",
    "\n",
    "1. Use BeautifulSoup to extract all the html elements that contain the developer names.\n",
    "\n",
    "1. Use string manipulation techniques to replace whitespaces and linebreaks (i.e. `\\n`) in the *text* of each html element. Use a list to store the clean names.\n",
    "\n",
    "1. Print the list of names.\n",
    "\n",
    "Your output should look like below:\n",
    "\n",
    "```\n",
    "['trimstray (@trimstray)',\n",
    " 'joewalnes (JoeWalnes)',\n",
    " 'charlax (Charles-AxelDein)',\n",
    " 'ForrestKnight (ForrestKnight)',\n",
    " 'revery-ui (revery-ui)',\n",
    " 'alibaba (Alibaba)',\n",
    " 'Microsoft (Microsoft)',\n",
    " 'github (GitHub)',\n",
    " 'facebook (Facebook)',\n",
    " 'boazsegev (Bo)',\n",
    " 'google (Google)',\n",
    " 'cloudfetch',\n",
    " 'sindresorhus (SindreSorhus)',\n",
    " 'tensorflow',\n",
    " 'apache (TheApacheSoftwareFoundation)',\n",
    " 'DevonCrawford (DevonCrawford)',\n",
    " 'ARMmbed (ArmMbed)',\n",
    " 'vuejs (vuejs)',\n",
    " 'fastai (fast.ai)',\n",
    " 'QiShaoXuan (Qi)',\n",
    " 'joelparkerhenderson (JoelParkerHenderson)',\n",
    " 'torvalds (LinusTorvalds)',\n",
    " 'CyC2018',\n",
    " 'komeiji-satori (神楽坂覚々)',\n",
    " 'script-8']\n",
    " ```"
   ]
  },
  {
   "cell_type": "code",
   "execution_count": 114,
   "metadata": {},
   "outputs": [],
   "source": [
    "#your code\n",
    "#links = soup.find_all('a')\n",
    "#soup.p['class']\n",
    "#soup.select(\"p.name.body\")\n",
    "names = soup.select('.h3 a')\n",
    "#names"
   ]
  },
  {
   "cell_type": "code",
   "execution_count": 115,
   "metadata": {},
   "outputs": [
    {
     "data": {
      "text/plain": [
       "['Tomoki Hayashi (kan-bayashi)',\n",
       " 'Liyas Thomas (liyasthomas)',\n",
       " 'Piotrek Witek (piotrwitek)',\n",
       " 'Gregor Santner (gsantner)',\n",
       " 'Ran Luo (Jocs)',\n",
       " 'Sébastien Eustace (sdispater)',\n",
       " '文翼 (wenzhixin)',\n",
       " 'Zac Sweers (ZacSweers)',\n",
       " 'Arjay Angeles (yajra)',\n",
       " 'Jared Palmer (jaredpalmer)',\n",
       " 'Mislav Marohnić (mislav)',\n",
       " 'Samuel Attard (MarshallOfSound)',\n",
       " 'Robert Mosolgo (rmosolgo)',\n",
       " 'Marten Seemann (marten-seemann)',\n",
       " 'Gabriel Aszalos (gbbr)',\n",
       " 'Wojciech Maj (wojtekmaj)',\n",
       " 'Yoshifumi Kawai (neuecc)',\n",
       " 'Otto Winter (OttoWinter)',\n",
       " 'Mark Erikson (markerikson)',\n",
       " 'Ives van Hoorne (CompuIves)',\n",
       " 'chriseth (chriseth)',\n",
       " 'Jonah Williams (jonahwilliams)',\n",
       " 'Federico Brigante (fregante)',\n",
       " 'Emmanuel Garcia (blasten)',\n",
       " 'Edward Z. Yang (ezyang)']"
      ]
     },
     "execution_count": 115,
     "metadata": {},
     "output_type": "execute_result"
    }
   ],
   "source": [
    "names2=[]\n",
    "for e in names:\n",
    "    nombre = e.text.replace(\"\\\\n\",'').strip()\n",
    "    apodo = e.get('href')[1:]\n",
    "    names2.append('{} ({})'.format(nombre,apodo))\n",
    "names2"
   ]
  },
  {
   "cell_type": "markdown",
   "metadata": {},
   "source": [
    "#### Display the trending Python repositories in GitHub\n",
    "\n",
    "The steps to solve this problem is similar to the previous one except that you need to find out the repository names instead of developer names."
   ]
  },
  {
   "cell_type": "code",
   "execution_count": 124,
   "metadata": {},
   "outputs": [],
   "source": [
    "# This is the url you will scrape in this exercise\n",
    "url = 'https://github.com/trending/python?since=daily'"
   ]
  },
  {
   "cell_type": "code",
   "execution_count": 133,
   "metadata": {},
   "outputs": [
    {
     "data": {
      "text/plain": [
       "['deezer/spleeter',\n",
       " 'openai/gpt-2',\n",
       " 'PaddlePaddle/models',\n",
       " '0voice/interview_internal_reference',\n",
       " 'kubernetes-client/python',\n",
       " 'svjan5/GNNs-for-NLP',\n",
       " 'Linzaer/Ultra-Light-Fast-Generic-Face-Detector-1MB',\n",
       " 'huggingface/transformers',\n",
       " 'MalongTech/research-charnet',\n",
       " 'thorn-oss/perception',\n",
       " 'eastlakeside/interpy-zh',\n",
       " 'Azure/azure-cli',\n",
       " 'encode/django-rest-framework',\n",
       " 'wangzheng0822/algo',\n",
       " 'marshmallow-code/marshmallow',\n",
       " 'tensorflow/models',\n",
       " 'momika233/ClamAV_0Day_exploit',\n",
       " 'zihangdai/xlnet',\n",
       " 'sinovation/ZEN',\n",
       " 'shenweichen/DeepCTR',\n",
       " 'google-research/bert',\n",
       " 'geekcomputers/Python',\n",
       " 'facebookresearch/hydra',\n",
       " 'encode/httpx',\n",
       " 'charlesq34/pointnet2']"
      ]
     },
     "execution_count": 133,
     "metadata": {},
     "output_type": "execute_result"
    }
   ],
   "source": [
    "#your code\n",
    "res = requests.get(url)\n",
    "res.status_code\n",
    "html = res.text\n",
    "soup = BeautifulSoup(html, 'html.parser')\n",
    "links = soup.select('.h3 a')\n",
    "links\n",
    "repos = []\n",
    "for e in links:\n",
    "    href = re.sub('^/','',e.get('href'))\n",
    "    repos.append('{}'.format(href))\n",
    "repos"
   ]
  },
  {
   "cell_type": "markdown",
   "metadata": {},
   "source": [
    "#### Display all the image links from Walt Disney wikipedia page"
   ]
  },
  {
   "cell_type": "code",
   "execution_count": 150,
   "metadata": {},
   "outputs": [],
   "source": [
    "# This is the url you will scrape in this exercise\n",
    "url = 'https://en.wikipedia.org/wiki/Walt_Disney'"
   ]
  },
  {
   "cell_type": "code",
   "execution_count": 153,
   "metadata": {},
   "outputs": [
    {
     "data": {
      "text/plain": [
       "['upload.wikimedia.org/wikipedia/commons/thumb/d/df/Walt_Disney_1946.JPG/220px-Walt_Disney_1946.JPG',\n",
       " 'upload.wikimedia.org/wikipedia/commons/thumb/8/87/Walt_Disney_1942_signature.svg/150px-Walt_Disney_1942_signature.svg.png',\n",
       " 'upload.wikimedia.org/wikipedia/commons/thumb/c/c4/Walt_Disney_envelope_ca._1921.jpg/220px-Walt_Disney_envelope_ca._1921.jpg',\n",
       " 'upload.wikimedia.org/wikipedia/commons/thumb/0/0d/Trolley_Troubles_poster.jpg/170px-Trolley_Troubles_poster.jpg',\n",
       " 'upload.wikimedia.org/wikipedia/commons/thumb/7/71/Walt_Disney_and_his_cartoon_creation_%22Mickey_Mouse%22_-_National_Board_of_Review_Magazine.jpg/170px-Walt_Disney_and_his_cartoon_creation_%22Mickey_Mouse%22_-_National_Board_of_Review_Magazine.jpg',\n",
       " 'upload.wikimedia.org/wikipedia/en/thumb/4/4e/Steamboat-willie.jpg/170px-Steamboat-willie.jpg',\n",
       " 'upload.wikimedia.org/wikipedia/commons/thumb/5/57/Walt_Disney_1935.jpg/170px-Walt_Disney_1935.jpg',\n",
       " 'upload.wikimedia.org/wikipedia/commons/thumb/c/cd/Walt_Disney_Snow_white_1937_trailer_screenshot_%2813%29.jpg/220px-Walt_Disney_Snow_white_1937_trailer_screenshot_%2813%29.jpg',\n",
       " 'upload.wikimedia.org/wikipedia/commons/thumb/1/15/Disney_drawing_goofy.jpg/170px-Disney_drawing_goofy.jpg',\n",
       " 'upload.wikimedia.org/wikipedia/commons/thumb/1/13/DisneySchiphol1951.jpg/220px-DisneySchiphol1951.jpg',\n",
       " 'upload.wikimedia.org/wikipedia/commons/thumb/8/8c/WaltDisneyplansDisneylandDec1954.jpg/220px-WaltDisneyplansDisneylandDec1954.jpg',\n",
       " 'upload.wikimedia.org/wikipedia/commons/thumb/f/ff/Walt_disney_portrait_right.jpg/170px-Walt_disney_portrait_right.jpg',\n",
       " 'upload.wikimedia.org/wikipedia/commons/thumb/1/1a/Walt_Disney_Grave.JPG/170px-Walt_Disney_Grave.JPG',\n",
       " 'upload.wikimedia.org/wikipedia/commons/thumb/2/2d/Roy_O._Disney_with_Company_at_Press_Conference.jpg/170px-Roy_O._Disney_with_Company_at_Press_Conference.jpg',\n",
       " 'upload.wikimedia.org/wikipedia/commons/thumb/a/a9/Disney_Display_Case.JPG/170px-Disney_Display_Case.JPG',\n",
       " 'upload.wikimedia.org/wikipedia/commons/thumb/6/6c/Disney1968.jpg/170px-Disney1968.jpg',\n",
       " 'upload.wikimedia.org/wikipedia/commons/thumb/d/da/Animation_disc.svg/30px-Animation_disc.svg.png',\n",
       " 'upload.wikimedia.org/wikipedia/en/thumb/6/69/P_vip.svg/29px-P_vip.svg.png',\n",
       " 'upload.wikimedia.org/wikipedia/commons/thumb/1/1a/Magic_Kingdom_castle.jpg/24px-Magic_Kingdom_castle.jpg',\n",
       " 'upload.wikimedia.org/wikipedia/en/thumb/e/e7/Video-x-generic.svg/30px-Video-x-generic.svg.png',\n",
       " 'upload.wikimedia.org/wikipedia/commons/thumb/a/a3/Flag_of_Los_Angeles_County%2C_California.svg/30px-Flag_of_Los_Angeles_County%2C_California.svg.png',\n",
       " 'upload.wikimedia.org/wikipedia/commons/thumb/8/8c/Blank_television_set.svg/30px-Blank_television_set.svg.png',\n",
       " 'upload.wikimedia.org/wikipedia/en/thumb/a/a4/Flag_of_the_United_States.svg/30px-Flag_of_the_United_States.svg.png']"
      ]
     },
     "execution_count": 153,
     "metadata": {},
     "output_type": "execute_result"
    }
   ],
   "source": [
    "#your code\n",
    "res = requests.get(url)\n",
    "res.status_code\n",
    "html = res.text\n",
    "soup = BeautifulSoup(html, 'html.parser')\n",
    "imagen = soup.select('.image img')\n",
    "\n",
    "imagen\n",
    "fotos = []\n",
    "for e in imagen:\n",
    "    src = re.sub('^//', '',e.get('src'))\n",
    "    fotos.append(src)\n",
    "fotos\n",
    "\n"
   ]
  },
  {
   "cell_type": "markdown",
   "metadata": {},
   "source": [
    "#### Retrieve an arbitary Wikipedia page of \"Python\" and create a list of links on that page"
   ]
  },
  {
   "cell_type": "code",
   "execution_count": null,
   "metadata": {},
   "outputs": [],
   "source": [
    "# This is the url you will scrape in this exercise\n",
    "url ='https://en.wikipedia.org/wiki/Python' "
   ]
  },
  {
   "cell_type": "code",
   "execution_count": 162,
   "metadata": {},
   "outputs": [
    {
     "data": {
      "text/plain": [
       "['https://web.archive.org/web/20160330142206/http://www.oxforddictionaries.com/definition/english/disney-walt',\n",
       " 'http://www.oxforddictionaries.com/definition/english/Disney-Walt?q=disney',\n",
       " 'https://web.archive.org/web/20091003001653/http://www.suntimes.com/lifestyles/1790811%2Cdisney-walt-museum-san-francisco-092709.article',\n",
       " 'http://www.suntimes.com/lifestyles/1790811,disney-walt-museum-san-francisco-092709.article',\n",
       " 'https://web.archive.org/web/20160320210314/http://www.britannica.com/biography/Walt-Disney',\n",
       " 'http://www.britannica.com/biography/Walt-Disney',\n",
       " 'https://web.archive.org/web/20160303200929/http://www.independent.co.uk/travel/uncle-walts-lost-ancestors-1266622.html',\n",
       " 'https://www.independent.co.uk/travel/uncle-walts-lost-ancestors-1266622.html',\n",
       " 'https://web.archive.org/web/20160309120940/http://kchistory.org/cdm4/item_viewer.php?cisobox=1&cisoptr=31&cisoroot=%2Fbiographies&rec=2',\n",
       " 'http://kchistory.org/cdm4/item_viewer.php?CISOROOT=/Biographies&CISOPTR=31&CISOBOX=1&REC=2',\n",
       " 'https://web.archive.org/web/20160421084237/https://d23.com/about-walt-disney/',\n",
       " 'https://d23.com/about-walt-disney/',\n",
       " 'https://web.archive.org/web/20160507092701/http://query.nytimes.com/gst/abstract.html?res=9C02E6D61130E03ABC4E52DFB467838D679EDE',\n",
       " 'https://www.nytimes.com/1966/12/16/archives/walt-disney-65-dies-on-coast-founded-an-empire-on-a-mouse-walt.html',\n",
       " 'https://web.archive.org/web/20160505063818/https://thewaltdisneycompany.com/about/',\n",
       " 'https://thewaltdisneycompany.com/about/',\n",
       " 'https://news.google.com/newspapers?id=D7peAAAAIBAJ&sjid=fC8MAAAAIBAJ&pg=4762%2C3438544',\n",
       " 'https://web.archive.org/web/20140714201543/http://www.waltdisney.org/content/alice-hits-skids',\n",
       " 'http://www.waltdisney.org/content/alice-hits-skids',\n",
       " 'https://web.archive.org/web/20140714145210/http://www.waltdisney.org/content/final-alice-comedy-released',\n",
       " 'http://www.waltdisney.org/content/final-alice-comedy-released',\n",
       " 'https://web.archive.org/web/20160308094315/http://www.bbc.co.uk/news/magazine-19910825',\n",
       " 'https://www.bbc.co.uk/news/magazine-19910825',\n",
       " 'https://web.archive.org/web/20150429005131/http://www.waltdisney.org/content/secret-talks',\n",
       " 'http://www.waltdisney.org/content/secret-talks',\n",
       " 'https://web.archive.org/web/20160407035338/http://espn.go.com/nfl/news/story?id=2324417',\n",
       " 'http://espn.go.com/nfl/news/story?id=2324417',\n",
       " 'https://web.archive.org/web/20080710052034/http://disney.go.com/disneyatoz/familymuseum/exhibits/articles/mickeymousegoldenage/index.html',\n",
       " 'http://disney.go.com/disneyatoz/familymuseum/exhibits/articles/mickeymousegoldenage/index.html',\n",
       " 'https://web.archive.org/web/20160507092803/http://www.oscars.org/oscars/ceremonies/1933',\n",
       " 'http://www.oscars.org/oscars/ceremonies/1933',\n",
       " 'https://web.archive.org/web/20080422180415/http://www.sensesofcinema.com/contents/cteq/03/29/3_little_pigs.html',\n",
       " 'http://www.sensesofcinema.com/2003/cteq/3_little_pigs/',\n",
       " 'https://www.minneapolisfed.org/community/financial-and-economic-education/cpi-calculator-information/consumer-price-index-1800',\n",
       " 'https://web.archive.org/web/20160507092742/http://www.oscars.org/oscars/ceremonies/1939',\n",
       " 'http://www.oscars.org/oscars/ceremonies/1939',\n",
       " 'https://web.archive.org/web/20090414052339/http://disney.go.com/disneyatoz/familymuseum/exhibits/articles/goldenage/index.html',\n",
       " 'http://disney.go.com/disneyatoz/familymuseum/exhibits/articles/goldenage/index.html',\n",
       " 'https://web.archive.org/web/20140602200043/http://www.waltdisney.org/content/disney-brothers-face-fiscal-crisis',\n",
       " 'http://www.waltdisney.org/content/disney-brothers-face-fiscal-crisis',\n",
       " 'https://web.archive.org/web/20080514003423/http://www.cnn.com/SPECIALS/cold.war/episodes/06/documents/huac/disney.html',\n",
       " 'http://www.cnn.com/SPECIALS/cold.war/episodes/06/documents/huac/disney.html',\n",
       " 'https://web.archive.org/web/20060518072723/http://disney.go.com/disneyatoz/familymuseum/exhibits/articles/dreamingdisneyland/index.html',\n",
       " 'http://disney.go.com/disneyatoz/familymuseum/exhibits/articles/dreamingdisneyland/index.html',\n",
       " 'https://web.archive.org/web/20151002204510/http://www.waltdisney.org/content/beginning-wed',\n",
       " 'http://www.waltdisney.org/content/beginning-wed',\n",
       " 'https://web.archive.org/web/20081028031306/http://disney.go.com/disneyatoz/familymuseum/exhibits/articles/disneylandgenesis/index.html',\n",
       " 'http://disney.go.com/disneyatoz/familymuseum/exhibits/articles/disneylandgenesis/index.html',\n",
       " 'https://web.archive.org/web/20160507093724/http://query.nytimes.com/gst/abstract.html?res=9402E6DB103AE53BBC4A51DFB166838E649EDE',\n",
       " 'https://www.nytimes.com/1955/07/22/archives/topics-of-the-times.html',\n",
       " 'https://web.archive.org/web/20160507092819/http://www.oscars.org/oscars/ceremonies/1957',\n",
       " 'http://www.oscars.org/oscars/ceremonies/1957',\n",
       " 'https://web.archive.org/web/20160414231355/http://www.telegraph.co.uk/culture/film/film-news/9195930/Story-of-how-Mary-Poppins-author-regretted-selling-rights-to-Disney-to-be-turned-into-film.html',\n",
       " 'https://www.telegraph.co.uk/culture/film/film-news/9195930/Story-of-how-Mary-Poppins-author-regretted-selling-rights-to-Disney-to-be-turned-into-film.html',\n",
       " 'https://web.archive.org/web/20160413003545/http://www.waltdisney.org/blog/look-closer-1964-new-york-world%E2%80%99s-fair',\n",
       " 'http://www.waltdisney.org/blog/look-closer-1964-new-york-world%E2%80%99s-fair',\n",
       " 'https://www.winnipegfreepress.com/business/finance/estate-planning-lessons-from-the-magic-kingdom-50836787.html',\n",
       " 'https://web.archive.org/web/20160401082520/http://usatoday30.usatoday.com/life/movies/reviews/2010-03-26-beauty26_ST_N.htm',\n",
       " 'https://www.usatoday.com/life/movies/reviews/2010-03-26-beauty26_ST_N.htm',\n",
       " 'https://web.archive.org/web/20160509015731/http://waltdisneystudios.com/static/The%20History%20of%20TWDS.pdf',\n",
       " 'http://waltdisneystudios.com/static/The%20History%20of%20TWDS.pdf',\n",
       " 'https://web.archive.org/web/20160325041137/http://www.esquire.com/entertainment/news/a35104/walt-disney-epcot-history-city-of-tomorrow/',\n",
       " 'http://www.esquire.com/entertainment/news/a35104/walt-disney-epcot-history-city-of-tomorrow/',\n",
       " 'https://web.archive.org/web/20160304202409/http://techchannel.att.com/play-video.cfm/2012/2/3/AT%26T-Archives-Epcot',\n",
       " 'http://techchannel.att.com/play-video.cfm/2012/2/3/AT&T-Archives-Epcot',\n",
       " 'https://web.archive.org/web/20140330224647/http://www.waltdisney.org/about-us',\n",
       " 'http://www.waltdisney.org/about-us',\n",
       " 'https://web.archive.org/web/20130618074450/http://www.nytimes.com/2009/10/01/arts/design/01disney.html?pagewanted=1&_r=0',\n",
       " 'https://www.nytimes.com/2009/10/01/arts/design/01disney.html?pagewanted=1',\n",
       " 'https://web.archive.org/web/20160521150431/http://www.nydailynews.com/news/national/13-disney-parks-article-1.2381618',\n",
       " 'http://www.nydailynews.com/news/national/13-disney-parks-article-1.2381618',\n",
       " 'https://web.archive.org/web/20160505084621/http://variety.com/2001/tv/reviews/walt-the-man-behind-the-myth-1200469954/',\n",
       " 'https://variety.com/2001/tv/reviews/walt-the-man-behind-the-myth-1200469954/',\n",
       " 'https://web.archive.org/web/20131219232202/http://www.latimes.com/entertainment/envelope/moviesnow/la-et-mn-saving-mr-banks-tom-hanks-envelope-screening-series-20131218%2C0%2C1857959.story',\n",
       " 'http://www.latimes.com/entertainment/envelope/moviesnow/la-et-mn-saving-mr-banks-tom-hanks-envelope-screening-series-20131218,0,1857959.story',\n",
       " 'https://web.archive.org/web/20160426053955/http://www.telegraph.co.uk/culture/film/10064623/Walt-Disney-hero-or-villain.html',\n",
       " 'https://www.telegraph.co.uk/culture/film/10064623/Walt-Disney-hero-or-villain.html',\n",
       " 'https://web.archive.org/web/20160402095027/http://awardsdatabase.oscars.org/ampas_awards/help/statistics/Gen-NomsFacts.pdf',\n",
       " 'http://awardsdatabase.oscars.org/ampas_awards/help/statistics/Gen-NomsFacts.pdf',\n",
       " 'https://web.archive.org/web/20160401004246/http://www.goldenglobes.com/person/walt-disney',\n",
       " 'http://www.goldenglobes.com/person/walt-disney',\n",
       " 'https://web.archive.org/web/20160331144805/http://www.emmys.com/bios/walt-disney',\n",
       " 'http://www.emmys.com/bios/walt-disney',\n",
       " 'https://web.archive.org/web/20160407144839/https://www.loc.gov/programs/national-film-preservation-board/film-registry/complete-national-film-registry-listing',\n",
       " 'https://www.loc.gov/programs/national-film-preservation-board/film-registry/complete-national-film-registry-listing/',\n",
       " 'https://web.archive.org/web/20160424004920/http://www.afi.com/100Years/movies.aspx',\n",
       " 'http://www.afi.com/100years/movies.aspx',\n",
       " 'https://web.archive.org/web/20160319193037/http://www.walkoffame.com/walt-disney',\n",
       " 'http://www.walkoffame.com/walt-disney',\n",
       " 'https://web.archive.org/web/20160403111315/http://walkoffame.com/mickey-mouse',\n",
       " 'http://www.walkoffame.com/mickey-mouse',\n",
       " 'https://web.archive.org/web/20160402004406/https://www.emmys.com/awards/hall-of-fame-honorees',\n",
       " 'http://www.emmys.com/awards/hall-of-fame-honorees',\n",
       " 'https://web.archive.org/web/20160304235823/http://vault.sierraclub.org/john_muir_exhibit/life/ca_hall_of_fame.aspx',\n",
       " 'http://vault.sierraclub.org/john_muir_exhibit/life/ca_hall_of_fame.aspx',\n",
       " 'https://web.archive.org/web/20160305204240/http://www.ocregister.com/articles/walk-52629-first-orange.html',\n",
       " 'http://www.ocregister.com/articles/walk-52629-first-orange.html',\n",
       " 'https://web.archive.org/web/20160406123002/http://www.californiamuseum.org/inductee/walt-disney',\n",
       " 'http://www.californiamuseum.org/inductee/walt-disney',\n",
       " 'https://www.newspapers.com/image/7258240/?terms=Walt%2BDisney%2BHonored%2BWith%2BCongressional%2BGold%2BMedal',\n",
       " 'https://web.archive.org/web/20160519214319/https://news.google.com/newspapers?nid=1350&dat=19551116&id=8r9OAAAAIBAJ&sjid=lwAEAAAAIBAJ&pg=3770,22870',\n",
       " 'https://news.google.com/newspapers?nid=1350&dat=19551116&id=8r9OAAAAIBAJ&sjid=lwAEAAAAIBAJ&pg=3770,22870',\n",
       " 'https://web.archive.org/web/20151024012444/https://www.youtube.com/watch?v=TRu7ka4eD8k',\n",
       " 'https://www.youtube.com/watch?v=TRu7ka4eD8k',\n",
       " 'https://web.archive.org/web/20151024012444/https://www.youtube.com/watch?v=TRu7ka4eD8k',\n",
       " 'https://www.youtube.com/watch?v=TRu7ka4eD8k',\n",
       " 'https://web.archive.org/web/20160404133927/http://www.pbs.org/wgbh/americanexperience/films/walt-disney/',\n",
       " 'https://www.pbs.org/wgbh/americanexperience/films/walt-disney/',\n",
       " 'https://web.archive.org/web/20130912232143/http://www.nytimes.com/2011/09/25/movies/conflicting-voices-in-lars-von-triers-words-and-works.html?scp=1&sq=And%20Now%20a%20Word%20from&st=Search&_r=0',\n",
       " 'https://www.nytimes.com/2011/09/25/movies/conflicting-voices-in-lars-von-triers-words-and-works.html?scp=1&sq=And%20Now%20a%20Word%20from&st=Search',\n",
       " 'https://web.archive.org/web/20080607073752/http://disney.go.com/disneyatoz/familymuseum/collection/insidestory/inside_1933d.html',\n",
       " 'http://disney.go.com/disneyatoz/familymuseum/collection/insidestory/inside_1933d.html',\n",
       " 'https://web.archive.org/web/20160313010654/http://www.cbsnews.com/news/walt-disney-more-than-toons-theme-parks/',\n",
       " 'http://www.cbsnews.com/stories/2006/11/01/earlyshow/leisure/books/main2141735.shtml',\n",
       " 'https://books.google.com/books?id=zDJXnzMh7bkC&pg=PP1',\n",
       " 'https://books.google.com/?id=h2JaDDqOiJkC&printsec=frontcover&dq=%22Buckaroo+Bugs%27%22#v=onepage&q&f=false',\n",
       " 'https://books.google.com/books?id=VpzpAAAAMAAJ',\n",
       " 'https://books.google.com/books?id=BupsDEZOLYUC&pg=PP1',\n",
       " 'https://books.google.com/books?id=YxYRAQAAMAAJ',\n",
       " 'https://books.google.com/books?id=HvC3WaGZF3UC&pg=PP1',\n",
       " 'https://books.google.com/books?id=GXhzAQAAQBAJ&pg=PP1',\n",
       " 'https://books.google.com/books?id=ONfIedLRIZMC&pg=PP1',\n",
       " 'https://books.google.com/books?id=fn_WAAAAMAAJ',\n",
       " 'https://books.google.com/books?id=jGdpWCTdb-IC&pg=PP1',\n",
       " 'https://books.google.com/books?id=lZ3vTgpHgFoC&pg=PP1',\n",
       " 'http://www.anb.org/articles/18/18-00309.html',\n",
       " 'https://books.google.com/books?id=E9GVJJqNjGAC&pg=PR4',\n",
       " 'https://books.google.com/books?id=ZfufCwAAQBAJ&pg=PP1',\n",
       " 'https://books.google.com/books?id=eaKoZtJqPc0C&pg=PP1',\n",
       " 'https://books.google.com/books?id=vPPUBAAAQBAJ&pg=PP1',\n",
       " 'https://books.google.com/books?id=mRz1f96psuwC&pg=PP1',\n",
       " 'https://books.google.com/books?id=4sIbAQAAIAAJ',\n",
       " 'https://books.google.com/books?id=3yY3AQAAIAAJ',\n",
       " 'https://books.google.com/books?id=VoJ5nUyIzCsC&lpg=PP1&pg=PP1#v=onepage&q&f=false',\n",
       " 'https://books.google.com/books?id=6pA45zYWgYQC&pg=PP1',\n",
       " 'https://books.google.com/books?id=oIElNyj_cJkC',\n",
       " 'https://books.google.com/books?id=0CFMS0z5-gcC&pg=PP1',\n",
       " 'https://books.google.com/books?id=I6q6PinOBcQC&pg=PP1',\n",
       " 'https://books.google.com/books?id=f2qjAgAAQBAJ&pg=PP1',\n",
       " 'https://books.google.com/books?id=XojpGlFvAq0C&pg=PP1',\n",
       " 'https://wikilivres.org/wiki/Walt_Disney',\n",
       " 'https://www.imdb.com/name/nm0000370/',\n",
       " 'http://tcmdb.com/participant/participant.jsp?participantId=50875',\n",
       " 'https://www.wikidata.org/wiki/Q8704#P3056',\n",
       " 'http://www.waltdisney.org/',\n",
       " 'http://www.thewaltdisneybirthplace.org/',\n",
       " 'https://interviews.televisionacademy.com/people/walt-disney',\n",
       " 'https://vault.fbi.gov/walter-elias-disney',\n",
       " 'https://en.wikipedia.org/w/index.php?title=Template:Academy_Honorary_Award&action=edit',\n",
       " 'https://en.wikipedia.org/w/index.php?title=Template:Cecil_B._DeMille_Award&action=edit',\n",
       " 'https://en.wikipedia.org/w/index.php?title=Template:Honorary_C%C3%A9sar&action=edit',\n",
       " 'https://en.wikipedia.org/w/index.php?title=Template:Thalberg_Award&action=edit',\n",
       " 'https://en.wikipedia.org/w/index.php?title=Template:1986_Television_Hall_of_Fame&action=edit',\n",
       " 'https://en.wikipedia.org/w/index.php?title=Template:Disney&action=edit',\n",
       " 'https://en.wikipedia.org/w/index.php?title=Template:Disneyland_Resort&action=edit',\n",
       " 'https://commons.wikimedia.org/wiki/Special:Search/Walt_Disney',\n",
       " 'https://en.wikiquote.org/wiki/Special:Search/Walt_Disney',\n",
       " 'https://www.wikidata.org/wiki/Special:Search/Walt_Disney',\n",
       " 'https://www.wikidata.org/wiki/Q8704',\n",
       " 'http://www.aucklandartgallery.com/explore-art-and-ideas/artist/305/',\n",
       " 'https://authority.bibsys.no/authority/rest/authorities/html/90057066',\n",
       " 'http://catalogo.bne.es/uhtbin/authoritybrowse.cgi?action=display&authority_id=XX1163376',\n",
       " 'https://catalogue.bnf.fr/ark:/12148/cb11994688k',\n",
       " 'https://data.bnf.fr/ark:/12148/cb11994688k',\n",
       " 'http://cantic.bnc.cat/registres/CUCId/a11231014',\n",
       " 'https://ci.nii.ac.jp/author/DA09601826?l=en',\n",
       " 'https://d-nb.info/gnd/118526006',\n",
       " 'http://isni.org/isni/0000000121280724',\n",
       " 'https://id.loc.gov/authorities/names/n78095660',\n",
       " 'https://musicbrainz.org/artist/560416d7-c8f8-4a1b-b555-ef2b93528fb5',\n",
       " 'https://catalog.archives.gov/id/10580368',\n",
       " 'https://id.ndl.go.jp/auth/ndlna/00437974',\n",
       " 'https://aleph.nkp.cz/F/?func=find-c&local_base=aut&ccl_term=ica=jn19990001791&CON_LNG=ENG',\n",
       " 'https://nla.gov.au/anbd.aut-an35037590',\n",
       " 'http://aleph.nli.org.il/F/?func=find-b&local_base=NNL10&find_code=SYS&con_lng=eng&request=000039797',\n",
       " 'http://alephnew.bibnat.ro:8991/F?func=find-b&request=000066276&find_code=SYS&adjacent=Y&local_base=NLR10',\n",
       " 'http://data.bibliotheken.nl/id/thes/p182955389',\n",
       " 'https://www.wikidata.org/wiki/Q23892012',\n",
       " 'https://pic.nypl.org/constituents/308398',\n",
       " 'https://rkd.nl/en/explore/artists/23298',\n",
       " 'https://libris.kb.se/auth/273638',\n",
       " 'https://snaccooperative.org/ark:/99166/w6b85pv2',\n",
       " 'https://www.idref.fr/028028945',\n",
       " 'https://trove.nla.gov.au/people/808425',\n",
       " 'https://www.getty.edu/vow/ULANFullDisplay?find=&role=&nation=&subjectid=500025598',\n",
       " 'https://viaf.org/viaf/36927108',\n",
       " 'https://www.worldcat.org/identities/containsVIAFID/36927108',\n",
       " 'https://en.wikipedia.org/w/index.php?title=Walt_Disney&oldid=918373619',\n",
       " 'https://donate.wikimedia.org/wiki/Special:FundraiserRedirector?utm_source=donate&utm_medium=sidebar&utm_campaign=C13_en.wikipedia.org&uselang=en',\n",
       " 'https://www.wikidata.org/wiki/Special:EntityPage/Q8704',\n",
       " 'https://commons.wikimedia.org/wiki/Category:Walt_Disney',\n",
       " 'https://en.wikiquote.org/wiki/Walt_Disney',\n",
       " 'https://kbd.wikipedia.org/wiki/%D0%A3%D0%BE%D0%BB%D1%82_%D0%94%D0%B8%D1%81%D0%BD%D0%B5%D0%B9',\n",
       " 'https://af.wikipedia.org/wiki/Walt_Disney',\n",
       " 'https://als.wikipedia.org/wiki/Walt_Disney',\n",
       " 'https://am.wikipedia.org/wiki/%E1%8B%8E%E1%88%8D%E1%89%B5_%E1%8B%B2%E1%8B%9D%E1%8A%92',\n",
       " 'https://ar.wikipedia.org/wiki/%D9%88%D8%A7%D9%84%D8%AA_%D8%AF%D9%8A%D8%B2%D9%86%D9%8A',\n",
       " 'https://an.wikipedia.org/wiki/Walt_Disney',\n",
       " 'https://as.wikipedia.org/wiki/%E0%A7%B1%E0%A6%BE%E0%A6%B2%E0%A7%8D%E0%A6%9F_%E0%A6%A1%E0%A6%BF%E0%A6%9C%E0%A6%A8%E0%A7%80',\n",
       " 'https://ast.wikipedia.org/wiki/Walt_Disney',\n",
       " 'https://az.wikipedia.org/wiki/Uolt_Disney',\n",
       " 'https://bn.wikipedia.org/wiki/%E0%A6%93%E0%A6%AF%E0%A6%BC%E0%A6%BE%E0%A6%B2%E0%A7%8D%E0%A6%9F_%E0%A6%A1%E0%A6%BF%E0%A6%9C%E0%A6%A8%E0%A6%BF',\n",
       " 'https://zh-min-nan.wikipedia.org/wiki/Walt_Disney',\n",
       " 'https://ba.wikipedia.org/wiki/%D0%A3%D0%BE%D0%BB%D1%82_%D0%94%D0%B8%D1%81%D0%BD%D0%B5%D0%B9',\n",
       " 'https://be.wikipedia.org/wiki/%D0%A3%D0%BE%D0%BB%D1%82_%D0%94%D1%8B%D1%81%D0%BD%D0%B5%D0%B9',\n",
       " 'https://be-x-old.wikipedia.org/wiki/%D0%8E%D0%BE%D0%BB%D1%82_%D0%94%D1%8B%D1%81%D0%BD%D1%8D%D0%B9',\n",
       " 'https://bh.wikipedia.org/wiki/%E0%A4%B5%E0%A4%BE%E0%A4%B2%E0%A5%8D%E0%A4%9F_%E0%A4%A1%E0%A4%BF%E0%A4%9C%E0%A5%8D%E0%A4%A8%E0%A5%80',\n",
       " 'https://bcl.wikipedia.org/wiki/Walt_Disney',\n",
       " 'https://bi.wikipedia.org/wiki/Walt_Disney',\n",
       " 'https://bg.wikipedia.org/wiki/%D0%A3%D0%BE%D0%BB%D1%82_%D0%94%D0%B8%D1%81%D0%BD%D0%B8',\n",
       " 'https://bar.wikipedia.org/wiki/Walt_Disney',\n",
       " 'https://bs.wikipedia.org/wiki/Walt_Disney',\n",
       " 'https://br.wikipedia.org/wiki/Walt_Disney',\n",
       " 'https://bxr.wikipedia.org/wiki/%D0%A3%D0%BE%D0%BB%D1%82_%D0%94%D0%B8%D1%81%D0%BD%D0%B5%D0%B9',\n",
       " 'https://ca.wikipedia.org/wiki/Walt_Disney',\n",
       " 'https://ceb.wikipedia.org/wiki/Walt_Disney',\n",
       " 'https://cs.wikipedia.org/wiki/Walt_Disney',\n",
       " 'https://co.wikipedia.org/wiki/Walt_Disney',\n",
       " 'https://cy.wikipedia.org/wiki/Walt_Disney',\n",
       " 'https://da.wikipedia.org/wiki/Walt_Disney',\n",
       " 'https://se.wikipedia.org/wiki/Walt_Disney',\n",
       " 'https://pdc.wikipedia.org/wiki/Walt_Disney',\n",
       " 'https://de.wikipedia.org/wiki/Walt_Disney',\n",
       " 'https://dsb.wikipedia.org/wiki/Walt_Disney',\n",
       " 'https://et.wikipedia.org/wiki/Walt_Disney',\n",
       " 'https://el.wikipedia.org/wiki/%CE%93%CE%BF%CF%85%CF%8E%CE%BB%CF%84_%CE%9D%CF%84%CE%AF%CF%83%CE%BD%CE%B5%CF%8B',\n",
       " 'https://es.wikipedia.org/wiki/Walt_Disney',\n",
       " 'https://eo.wikipedia.org/wiki/Walt_Disney',\n",
       " 'https://ext.wikipedia.org/wiki/Walt_Disney',\n",
       " 'https://eu.wikipedia.org/wiki/Walt_Disney',\n",
       " 'https://fa.wikipedia.org/wiki/%D9%88%D8%A7%D9%84%D8%AA_%D8%AF%DB%8C%D8%B2%D9%86%DB%8C',\n",
       " 'https://hif.wikipedia.org/wiki/Walt_Disney',\n",
       " 'https://fo.wikipedia.org/wiki/Walt_Disney',\n",
       " 'https://fr.wikipedia.org/wiki/Walt_Disney',\n",
       " 'https://fy.wikipedia.org/wiki/Walt_Disney',\n",
       " 'https://ga.wikipedia.org/wiki/Walt_Disney',\n",
       " 'https://gl.wikipedia.org/wiki/Walt_Disney',\n",
       " 'https://got.wikipedia.org/wiki/%F0%90%8D%85%F0%90%8C%B0%F0%90%8C%BB%F0%90%8D%84_%F0%90%8C%B3%F0%90%8C%B9%F0%90%8D%83%F0%90%8C%BD%F0%90%8C%B4%F0%90%8C%B9',\n",
       " 'https://gom.wikipedia.org/wiki/Walt_Disney',\n",
       " 'https://ko.wikipedia.org/wiki/%EC%9B%94%ED%8A%B8_%EB%94%94%EC%A6%88%EB%8B%88',\n",
       " 'https://haw.wikipedia.org/wiki/Walt_Disney',\n",
       " 'https://hy.wikipedia.org/wiki/%D5%88%D6%82%D5%B8%D5%AC%D5%A9_%D4%B4%D5%AB%D5%BD%D5%B6%D5%A5%D5%B5',\n",
       " 'https://hi.wikipedia.org/wiki/%E0%A4%B5%E0%A5%89%E0%A4%B2%E0%A5%8D%E0%A4%9F_%E0%A4%A1%E0%A4%BF%E0%A4%9C%E0%A4%BC%E0%A5%8D%E0%A4%A8%E0%A5%80',\n",
       " 'https://hsb.wikipedia.org/wiki/Walt_Disney',\n",
       " 'https://hr.wikipedia.org/wiki/Walt_Disney',\n",
       " 'https://gor.wikipedia.org/wiki/Walt_Disney',\n",
       " 'https://io.wikipedia.org/wiki/Walt_Disney',\n",
       " 'https://ilo.wikipedia.org/wiki/Walt_Disney',\n",
       " 'https://id.wikipedia.org/wiki/Walt_Disney',\n",
       " 'https://ia.wikipedia.org/wiki/Walt_Disney',\n",
       " 'https://os.wikipedia.org/wiki/%D0%94%D0%B8%D1%81%D0%BD%D0%B5%D0%B9,_%D0%A3%D0%BE%D0%BB%D1%82',\n",
       " 'https://is.wikipedia.org/wiki/Walt_Disney',\n",
       " 'https://it.wikipedia.org/wiki/Walt_Disney',\n",
       " 'https://he.wikipedia.org/wiki/%D7%95%D7%95%D7%9C%D7%98_%D7%93%D7%99%D7%A1%D7%A0%D7%99',\n",
       " 'https://jv.wikipedia.org/wiki/Walt_Disney',\n",
       " 'https://kbp.wikipedia.org/wiki/Walt_Disney',\n",
       " 'https://kn.wikipedia.org/wiki/%E0%B2%B5%E0%B2%BE%E0%B2%B2%E0%B3%8D%E0%B2%9F%E0%B3%8D_%E0%B2%A1%E0%B2%BF%E0%B2%B8%E0%B3%8D%E0%B2%A8%E0%B2%BF',\n",
       " 'https://ka.wikipedia.org/wiki/%E1%83%A3%E1%83%9D%E1%83%9A%E1%83%A2_%E1%83%93%E1%83%98%E1%83%A1%E1%83%9C%E1%83%94%E1%83%98',\n",
       " 'https://kk.wikipedia.org/wiki/%D0%A3%D0%BE%D0%BB%D1%82_%D0%94%D0%B8%D1%81%D0%BD%D0%B5%D0%B9',\n",
       " 'https://sw.wikipedia.org/wiki/Walt_Disney',\n",
       " 'https://ht.wikipedia.org/wiki/Walt_Disney',\n",
       " 'https://ku.wikipedia.org/wiki/Walt_Disney',\n",
       " 'https://ky.wikipedia.org/wiki/%D0%A3%D0%BE%D0%BB%D1%82_%D0%94%D0%B8%D1%81%D0%BD%D0%B5%D0%B9',\n",
       " 'https://la.wikipedia.org/wiki/Gualterus_Disney',\n",
       " 'https://lv.wikipedia.org/wiki/Volts_Disnejs',\n",
       " 'https://lb.wikipedia.org/wiki/Walt_Disney',\n",
       " 'https://lt.wikipedia.org/wiki/Walt_Disney',\n",
       " 'https://lij.wikipedia.org/wiki/Walt_Disney',\n",
       " 'https://li.wikipedia.org/wiki/Walt_Disney',\n",
       " 'https://olo.wikipedia.org/wiki/Walt_Disney',\n",
       " 'https://hu.wikipedia.org/wiki/Walt_Disney',\n",
       " 'https://mai.wikipedia.org/wiki/%E0%A4%B5%E0%A4%BE%E0%A4%B2%E0%A5%8D%E0%A4%9F_%E0%A4%A1%E0%A4%BF%E0%A4%9C%E0%A5%8D%E0%A4%A8%E0%A5%80',\n",
       " 'https://mk.wikipedia.org/wiki/%D0%92%D0%BE%D0%BB%D1%82_%D0%94%D0%B8%D0%B7%D0%BD%D0%B8',\n",
       " 'https://mg.wikipedia.org/wiki/Walt_Disney',\n",
       " 'https://ml.wikipedia.org/wiki/%E0%B4%B5%E0%B4%BE%E0%B5%BE%E0%B4%9F%E0%B5%8D%E0%B4%9F%E0%B5%8D_%E0%B4%A1%E0%B4%BF%E0%B4%B8%E0%B5%8D%E0%B4%A8%E0%B4%BF',\n",
       " 'https://mr.wikipedia.org/wiki/%E0%A4%B5%E0%A5%89%E0%A4%B2%E0%A5%8D%E0%A4%9F_%E0%A4%A1%E0%A4%BF%E0%A4%B8%E0%A5%8D%E0%A4%A8%E0%A5%87',\n",
       " 'https://xmf.wikipedia.org/wiki/%E1%83%A3%E1%83%9D%E1%83%9A%E1%83%A2_%E1%83%93%E1%83%98%E1%83%A1%E1%83%9C%E1%83%94%E1%83%98',\n",
       " 'https://arz.wikipedia.org/wiki/%D9%88%D8%A7%D9%84%D8%AA_%D8%AF%D9%8A%D8%B2%D9%86%D9%89',\n",
       " 'https://ms.wikipedia.org/wiki/Walt_Disney',\n",
       " 'https://min.wikipedia.org/wiki/Walt_Disney',\n",
       " 'https://mn.wikipedia.org/wiki/%D0%A3%D0%BE%D0%BB%D1%82_%D0%94%D0%B8%D1%81%D0%BD%D0%B5%D0%B9',\n",
       " 'https://my.wikipedia.org/wiki/%E1%80%9D%E1%80%B1%E1%80%AB%E1%80%B7%E1%80%9C%E1%80%BA%E1%80%92%E1%80%85%E1%80%B9%E1%80%85%E1%80%94%E1%80%AE',\n",
       " 'https://nah.wikipedia.org/wiki/Walt_Disney',\n",
       " 'https://nl.wikipedia.org/wiki/Walt_Disney',\n",
       " 'https://ne.wikipedia.org/wiki/%E0%A4%B5%E0%A4%BE%E0%A4%B2%E0%A5%8D%E0%A4%9F_%E0%A4%A1%E0%A4%BF%E0%A4%9C%E0%A5%8D%E0%A4%A8%E0%A5%80',\n",
       " 'https://new.wikipedia.org/wiki/%E0%A4%B5%E0%A4%BE%E0%A4%B2%E0%A5%8D%E0%A4%9F_%E0%A4%A1%E0%A4%BF%E0%A4%9C%E0%A5%8D%E0%A4%A8%E0%A5%80',\n",
       " 'https://ja.wikipedia.org/wiki/%E3%82%A6%E3%82%A9%E3%83%AB%E3%83%88%E3%83%BB%E3%83%87%E3%82%A3%E3%82%BA%E3%83%8B%E3%83%BC',\n",
       " 'https://ce.wikipedia.org/wiki/%D0%94%D0%B8%D1%81%D0%BD%D0%B5%D0%B9,_%D0%A3%D0%BE%D0%BB%D1%82',\n",
       " 'https://no.wikipedia.org/wiki/Walt_Disney',\n",
       " 'https://nn.wikipedia.org/wiki/Walt_Disney',\n",
       " 'https://oc.wikipedia.org/wiki/Walt_Disney',\n",
       " 'https://uz.wikipedia.org/wiki/Walt_Disney',\n",
       " 'https://pa.wikipedia.org/wiki/%E0%A8%B5%E0%A8%BE%E0%A8%B2%E0%A8%9F_%E0%A8%A1%E0%A8%BF%E0%A8%9C%E0%A8%BC%E0%A8%A8%E0%A9%80',\n",
       " 'https://pnb.wikipedia.org/wiki/%D9%88%D8%A7%D9%84%D9%B9_%DA%88%D8%B2%D9%86%DB%8C',\n",
       " 'https://pms.wikipedia.org/wiki/Walt_Disney',\n",
       " 'https://nds.wikipedia.org/wiki/Walt_Disney',\n",
       " 'https://pl.wikipedia.org/wiki/Walt_Disney',\n",
       " 'https://pt.wikipedia.org/wiki/Walt_Disney',\n",
       " 'https://ro.wikipedia.org/wiki/Walt_Disney',\n",
       " 'https://qu.wikipedia.org/wiki/Walt_Disney',\n",
       " 'https://rue.wikipedia.org/wiki/%D0%A3%D0%BE%D0%BB%D1%82_%D0%94%D1%96%D1%81%D0%BD%D0%B5%D0%B9',\n",
       " 'https://ru.wikipedia.org/wiki/%D0%94%D0%B8%D1%81%D0%BD%D0%B5%D0%B9,_%D0%A3%D0%BE%D0%BB%D1%82',\n",
       " 'https://sah.wikipedia.org/wiki/%D0%A3%D0%BE%D0%BB%D1%82_%D0%94%D0%B8%D1%81%D0%BD%D0%B5%D0%B9',\n",
       " 'https://sat.wikipedia.org/wiki/%E1%B1%A3%E1%B1%9F%E1%B1%9E%E1%B1%B4_%E1%B1%B0%E1%B1%A4%E1%B1%A5%E1%B1%B1%E1%B1%A4',\n",
       " 'https://sa.wikipedia.org/wiki/%E0%A4%B5%E0%A4%BE%E0%A4%B2%E0%A5%8D%E0%A4%9F_%E0%A4%A1%E0%A4%BF%E0%A4%9C%E0%A5%8D%E0%A4%A8%E0%A5%80',\n",
       " 'https://sc.wikipedia.org/wiki/Walt_Disney',\n",
       " 'https://sco.wikipedia.org/wiki/Walt_Disney',\n",
       " 'https://sq.wikipedia.org/wiki/Walt_Disney',\n",
       " 'https://scn.wikipedia.org/wiki/Walt_Disney',\n",
       " 'https://simple.wikipedia.org/wiki/Walt_Disney',\n",
       " 'https://sk.wikipedia.org/wiki/Walt_Disney',\n",
       " 'https://sl.wikipedia.org/wiki/Walt_Disney',\n",
       " 'https://szl.wikipedia.org/wiki/Walt_Disney',\n",
       " 'https://ckb.wikipedia.org/wiki/%D9%88%D8%A7%DA%B5%D8%AA_%D8%AF%DB%8C%D8%B2%D9%86%DB%8C',\n",
       " 'https://sr.wikipedia.org/wiki/%D0%92%D0%BE%D0%BB%D1%82_%D0%94%D0%B8%D0%B7%D0%BD%D0%B8',\n",
       " 'https://sh.wikipedia.org/wiki/Walt_Disney',\n",
       " 'https://su.wikipedia.org/wiki/Walt_Disney',\n",
       " 'https://fi.wikipedia.org/wiki/Walt_Disney',\n",
       " 'https://sv.wikipedia.org/wiki/Walt_Disney',\n",
       " 'https://tl.wikipedia.org/wiki/Walt_Disney',\n",
       " 'https://ta.wikipedia.org/wiki/%E0%AE%B5%E0%AE%BE%E0%AE%B2%E0%AF%8D%E0%AE%9F%E0%AF%8D_%E0%AE%9F%E0%AE%BF%E0%AE%B8%E0%AF%8D%E0%AE%A9%E0%AE%BF',\n",
       " 'https://tt.wikipedia.org/wiki/%D0%A3%D0%BE%D0%BB%D1%82_%D0%94%D0%B8%D1%81%D0%BD%D0%B5%D0%B9',\n",
       " 'https://te.wikipedia.org/wiki/%E0%B0%B5%E0%B0%BE%E0%B0%B2%E0%B1%8D%E0%B0%9F%E0%B1%8D_%E0%B0%A1%E0%B0%BF%E0%B0%B8%E0%B1%8D%E0%B0%A8%E0%B1%80',\n",
       " 'https://th.wikipedia.org/wiki/%E0%B8%A7%E0%B8%AD%E0%B8%A5%E0%B8%95%E0%B9%8C_%E0%B8%94%E0%B8%B4%E0%B8%AA%E0%B8%99%E0%B8%B5%E0%B8%A2%E0%B9%8C',\n",
       " 'https://tg.wikipedia.org/wiki/%D0%A3%D0%BE%D0%BB%D1%82_%D0%94%D0%B8%D1%81%D0%BD%D0%B5%D0%B9',\n",
       " 'https://tr.wikipedia.org/wiki/Walt_Disney',\n",
       " 'https://uk.wikipedia.org/wiki/%D0%92%D0%BE%D0%BB%D1%82_%D0%94%D1%96%D1%81%D0%BD%D0%B5%D0%B9',\n",
       " 'https://ur.wikipedia.org/wiki/%D9%88%D8%A7%D9%84%D9%B9_%DA%88%D8%B2%D9%86%DB%8C',\n",
       " 'https://vec.wikipedia.org/wiki/Walt_Disney',\n",
       " 'https://vep.wikipedia.org/wiki/Disnei_Uolt',\n",
       " 'https://vi.wikipedia.org/wiki/Walt_Disney',\n",
       " 'https://vo.wikipedia.org/wiki/Walt_Disney',\n",
       " 'https://wa.wikipedia.org/wiki/Walt_Disney',\n",
       " 'https://war.wikipedia.org/wiki/Walt_Disney',\n",
       " 'https://wuu.wikipedia.org/wiki/%E5%8D%8E%E8%84%B1%C2%B7%E8%BF%AA%E5%A3%AB%E5%B0%BC',\n",
       " 'https://yi.wikipedia.org/wiki/%D7%95%D7%95%D7%90%D7%9C%D7%98_%D7%93%D7%99%D7%96%D7%A0%D7%99',\n",
       " 'https://yo.wikipedia.org/wiki/Walt_Disney',\n",
       " 'https://zh-yue.wikipedia.org/wiki/%E5%92%8C%E8%B7%AF%E8%BF%AA%E5%A3%AB%E5%B0%BC',\n",
       " 'https://bat-smg.wikipedia.org/wiki/Volts_D%C4%97sniejos',\n",
       " 'https://zh.wikipedia.org/wiki/%E8%8F%AF%E7%89%B9%C2%B7%E8%BF%AA%E5%A3%AB%E5%B0%BC',\n",
       " 'https://www.wikidata.org/wiki/Special:EntityPage/Q8704#sitelinks-wikipedia',\n",
       " 'https://foundation.wikimedia.org/wiki/Privacy_policy',\n",
       " 'https://www.mediawiki.org/wiki/Special:MyLanguage/How_to_contribute',\n",
       " 'https://foundation.wikimedia.org/wiki/Cookie_statement',\n",
       " 'https://wikimediafoundation.org/',\n",
       " 'https://www.mediawiki.org/']"
      ]
     },
     "execution_count": 162,
     "metadata": {},
     "output_type": "execute_result"
    }
   ],
   "source": [
    "#your code\n",
    "res = requests.get(url)\n",
    "res.status_code\n",
    "html = res.text\n",
    "soup = BeautifulSoup(html, 'html.parser')\n",
    "links = soup.findAll('a')\n",
    "python = []\n",
    "for link in soup.find_all('a'):\n",
    "    href = link.get('href')\n",
    "    if href and href[:4] == \"http\":\n",
    "        python.append(href)  \n",
    "#python"
   ]
  },
  {
   "cell_type": "markdown",
   "metadata": {},
   "source": [
    "#### Number of Titles that have changed in the United States Code since its last release point "
   ]
  },
  {
   "cell_type": "code",
   "execution_count": 164,
   "metadata": {},
   "outputs": [],
   "source": [
    "# This is the url you will scrape in this exercise\n",
    "url = 'http://uscode.house.gov/download/download.shtml'"
   ]
  },
  {
   "cell_type": "code",
   "execution_count": 165,
   "metadata": {},
   "outputs": [
    {
     "data": {
      "text/plain": [
       "[<a href=\"/browse.xhtml;jsessionid=D205253064745A688B60AF7AEECD12F1\"><img alt=\"OLRC home\" src=\"/javax.faces.resource/u4.png.xhtml?ln=images\" style=\"border: none;\"/></a>,\n",
       " <a href=\"/browse.xhtml;jsessionid=D205253064745A688B60AF7AEECD12F1\" style=\"text-decoration: none; font-family: 'Calibri'; color: rgb(69, 38, 35); font-size: 15px; font-weight: bold;\">\n",
       "                     Home</a>,\n",
       " <a href=\"/browse.xhtml;jsessionid=D205253064745A688B60AF7AEECD12F1\"><img src=\"/javax.faces.resource/transparent.gif.xhtml?ln=images\" style=\"position: absolute; top: 0px; left: 0px; width: 100%; height: 31px; cursor: pointer; border: none;\"/></a>,\n",
       " <a href=\"/currency/currency.shtml;jsessionid=D205253064745A688B60AF7AEECD12F1\"><img src=\"/javax.faces.resource/transparent.gif.xhtml?ln=images\" style=\"position: absolute; top: 0px; left: 0px; width: 100%; height: 31px; cursor: pointer; border: none;\"/></a>,\n",
       " <a href=\"/classification/tables.shtml;jsessionid=D205253064745A688B60AF7AEECD12F1\"><img src=\"/javax.faces.resource/transparent.gif.xhtml?ln=images\" style=\"position: absolute; top: 0px; left: 0px; width: 100%; height: 31px; cursor: pointer; border: none;\"/></a>,\n",
       " <a href=\"/popularnames/popularnames.htm;jsessionid=D205253064745A688B60AF7AEECD12F1\"><img src=\"/javax.faces.resource/transparent.gif.xhtml?ln=images\" style=\"position: absolute; top: 0px; left: 0px; width: 100%; height: 31px; cursor: pointer; border: none;\"/></a>,\n",
       " <a href=\"#.xhtml\"><img src=\"/javax.faces.resource/transparent.gif.xhtml?ln=images\" style=\"position: absolute; top: 0px; left: 0px; width: 100%; height: 31px; cursor: pointer; border: none;\"/></a>,\n",
       " <a href=\"/cite.xhtml;jsessionid=D205253064745A688B60AF7AEECD12F1\"><img src=\"/javax.faces.resource/transparent.gif.xhtml?ln=images\" style=\"position: absolute; top: 0px; left: 0px; width: 100%; height: 31px; cursor: pointer; border: none;\"/></a>,\n",
       " <a href=\"/table3/table3years.htm;jsessionid=D205253064745A688B60AF7AEECD12F1\"><img src=\"/javax.faces.resource/transparent.gif.xhtml?ln=images\" style=\"position: absolute; top: 0px; left: 0px; width: 100%; height: 31px; cursor: pointer; border: none;\"/></a>,\n",
       " <a href=\"/tables/usctable1.htm;jsessionid=D205253064745A688B60AF7AEECD12F1\"><img src=\"/javax.faces.resource/transparent.gif.xhtml?ln=images\" style=\"position: absolute; top: 0px; left: 0px; width: 100%; height: 31px; cursor: pointer; border: none;\"/></a>,\n",
       " <a href=\"#.xhtml\"><img src=\"/javax.faces.resource/transparent.gif.xhtml?ln=images\" style=\"position: absolute; top: 0px; left: 0px; width: 100%; height: 31px; cursor: pointer; border: none;\"/></a>,\n",
       " <a href=\"/about_code.xhtml;jsessionid=D205253064745A688B60AF7AEECD12F1\"><img src=\"/javax.faces.resource/transparent.gif.xhtml?ln=images\" style=\"position: absolute; top: 0px; left: 0px; width: 100%; height: 31px; cursor: pointer; border: none;\"/></a>,\n",
       " <a href=\"/about_classification.xhtml;jsessionid=D205253064745A688B60AF7AEECD12F1\"><img src=\"/javax.faces.resource/transparent.gif.xhtml?ln=images\" style=\"position: absolute; top: 0px; left: 0px; width: 100%; height: 31px; cursor: pointer; border: none;\"/></a>,\n",
       " <a href=\"/detailed_guide.xhtml;jsessionid=D205253064745A688B60AF7AEECD12F1\"><img src=\"/javax.faces.resource/transparent.gif.xhtml?ln=images\" style=\"position: absolute; top: 0px; left: 0px; width: 100%; height: 31px; cursor: pointer; border: none;\"/></a>,\n",
       " <a href=\"/faq.xhtml;jsessionid=D205253064745A688B60AF7AEECD12F1\"><img src=\"/javax.faces.resource/transparent.gif.xhtml?ln=images\" style=\"position: absolute; top: 0px; left: 0px; width: 100%; height: 31px; cursor: pointer; border: none;\"/></a>,\n",
       " <a href=\"/codification/legislation.shtml;jsessionid=D205253064745A688B60AF7AEECD12F1\"><img src=\"/javax.faces.resource/transparent.gif.xhtml?ln=images\" style=\"position: absolute; top: 0px; left: 0px; width: 100%; height: 31px; cursor: pointer; border: none;\"/></a>,\n",
       " <a href=\"/editorialreclassification/reclassification.html;jsessionid=D205253064745A688B60AF7AEECD12F1\"><img src=\"/javax.faces.resource/transparent.gif.xhtml?ln=images\" style=\"position: absolute; top: 0px; left: 0px; width: 100%; height: 31px; cursor: pointer; border: none;\"/></a>,\n",
       " <a href=\"/download/download.shtml;jsessionid=D205253064745A688B60AF7AEECD12F1\"><img src=\"/javax.faces.resource/transparent.gif.xhtml?ln=images\" style=\"position: absolute; top: 0px; left: 0px; width: 100%; height: 31px; cursor: pointer; border: none;\"/></a>,\n",
       " <a href=\"#.xhtml\"><img src=\"/javax.faces.resource/transparent.gif.xhtml?ln=images\" style=\"position: absolute; top: 0px; left: 0px; width: 100%; height: 31px; cursor: pointer; border: none;\"/></a>,\n",
       " <a href=\"https://congress.gov/\"><img src=\"/javax.faces.resource/transparent.gif.xhtml?ln=images\" style=\"position: absolute; top: 0px; left: 0px; width: 100%; height: 31px; cursor: pointer; border: none;\"/></a>,\n",
       " <a href=\"https://www.govinfo.gov\"><img src=\"/javax.faces.resource/transparent.gif.xhtml?ln=images\" style=\"position: absolute; top: 0px; left: 0px; width: 100%; height: 31px; cursor: pointer; border: none;\"/></a>,\n",
       " <a href=\"https://legcounsel.house.gov/HOLC/Resources/comps_alpha.html\"><img src=\"/javax.faces.resource/transparent.gif.xhtml?ln=images\" style=\"position: absolute; top: 0px; left: 0px; width: 100%; height: 31px; cursor: pointer; border: none;\"/></a>,\n",
       " <a href=\"resources/USLM-User-Guide.pdf\">User Guide</a>,\n",
       " <a href=\"resources/schemaandcss.zip\">USLM Schema and stylesheet</a>,\n",
       " <a href=\"resources/uscxhtmlcss.zip\">stylesheet</a>,\n",
       " <a href=\"http://www.gpo.gov\">GPO</a>,\n",
       " <a href=\"http://uscode.house.gov/currency/currency.shtml\">Currency</a>,\n",
       " <a href=\"priorreleasepoints.htm\">Prior Release Points</a>,\n",
       " <a href=\"annualhistoricalarchives/annualhistoricalarchives.htm\">Annual Historical Archives</a>,\n",
       " <a href=\"releasepoints/us/pl/116/65/xml_uscAll@116-65.zip\" title=\"All USC Titles in XML\">[XML]</a>,\n",
       " <a href=\"releasepoints/us/pl/116/65/htm_uscAll@116-65.zip\" title=\"All USC Titles in XHTML\">[XHTML]</a>,\n",
       " <a href=\"releasepoints/us/pl/116/65/pcc_uscAll@116-65.zip\" title=\"All USC Titles in PCC\">[PCC]</a>,\n",
       " <a href=\"releasepoints/us/pl/116/65/pdf_uscAll@116-65.zip\" title=\"All USC Titles in PDF\">[PDF]</a>,\n",
       " <a class=\"fn\" href=\"#fn\">٭</a>,\n",
       " <a href=\"releasepoints/us/pl/116/65/xml_usc01@116-65.zip\" title=\"Title 1 XML\">[XML]</a>,\n",
       " <a href=\"releasepoints/us/pl/116/65/htm_usc01@116-65.zip\" title=\"Title 1 XHTML\">[XHTML]</a>,\n",
       " <a href=\"releasepoints/us/pl/116/65/pcc_usc01@116-65.zip\" title=\"Title 1 PCC\">[PCC]</a>,\n",
       " <a href=\"releasepoints/us/pl/116/65/pdf_usc01@116-65.zip\" title=\"Title 1 PDF\">[PDF]</a>,\n",
       " <a href=\"releasepoints/us/pl/116/65/xml_usc02@116-65.zip\" title=\"Title 2 XML\">[XML]</a>,\n",
       " <a href=\"releasepoints/us/pl/116/65/htm_usc02@116-65.zip\" title=\"Title 2 XHTML\">[XHTML]</a>,\n",
       " <a href=\"releasepoints/us/pl/116/65/pcc_usc02@116-65.zip\" title=\"Title 2 PCC\">[PCC]</a>,\n",
       " <a href=\"releasepoints/us/pl/116/65/pdf_usc02@116-65.zip\" title=\"Title 2 PDF\">[PDF]</a>,\n",
       " <a class=\"fn\" href=\"#fn\">٭</a>,\n",
       " <a href=\"releasepoints/us/pl/116/65/xml_usc03@116-65.zip\" title=\"Title ? XML\">[XML]</a>,\n",
       " <a href=\"releasepoints/us/pl/116/65/htm_usc03@116-65.zip\" title=\"Title 3 XHTML\">[XHTML]</a>,\n",
       " <a href=\"releasepoints/us/pl/116/65/pcc_usc03@116-65.zip\" title=\"Title 3 PCC\">[PCC]</a>,\n",
       " <a href=\"releasepoints/us/pl/116/65/pdf_usc03@116-65.zip\" title=\"Title 3 PDF\">[PDF]</a>,\n",
       " <a class=\"fn\" href=\"#fn\">٭</a>,\n",
       " <a href=\"releasepoints/us/pl/116/65/xml_usc04@116-65.zip\" title=\"Title 4 XML\">[XML]</a>,\n",
       " <a href=\"releasepoints/us/pl/116/65/htm_usc04@116-65.zip\" title=\"Title 4 XHTML\">[XHTML]</a>,\n",
       " <a href=\"releasepoints/us/pl/116/65/pcc_usc04@116-65.zip\" title=\"Title 4 PCC\">[PCC]</a>,\n",
       " <a href=\"releasepoints/us/pl/116/65/pdf_usc04@116-65.zip\" title=\"Title 4 PDF\">[PDF]</a>,\n",
       " <a class=\"fn\" href=\"#fn\">٭</a>,\n",
       " <a href=\"releasepoints/us/pl/116/65/xml_usc05@116-65.zip\" title=\"Title 5 XML\">[XML]</a>,\n",
       " <a href=\"releasepoints/us/pl/116/65/htm_usc05@116-65.zip\" title=\"Title 5 XHTML\">[XHTML]</a>,\n",
       " <a href=\"releasepoints/us/pl/116/65/pcc_usc05@116-65.zip\" title=\"Title 5 PCC\">[PCC]</a>,\n",
       " <a href=\"releasepoints/us/pl/116/65/pdf_usc05@116-65.zip\" title=\"Title 5 PDF\">[PDF]</a>,\n",
       " <a href=\"releasepoints/us/pl/116/65/xml_usc05a@116-65.zip\" title=\"Title 5 App. XML\">[XML]</a>,\n",
       " <a href=\"releasepoints/us/pl/116/65/htm_usc05a@116-65.zip\" title=\"Title 5 App. XHTML\">[XHTML]</a>,\n",
       " <a href=\"releasepoints/us/pl/116/65/pcc_usc05a@116-65.zip\" title=\"Title 5 App. PCC\">[PCC]</a>,\n",
       " <a href=\"releasepoints/us/pl/116/65/pdf_usc05a@116-65.zip\" title=\"Title 5 App. PDF\">[PDF]</a>,\n",
       " <a href=\"releasepoints/us/pl/116/65/xml_usc06@116-65.zip\" title=\"Title 6 XML\">[XML]</a>,\n",
       " <a href=\"releasepoints/us/pl/116/65/htm_usc06@116-65.zip\" title=\"Title 6 XHTML\">[XHTML]</a>,\n",
       " <a href=\"releasepoints/us/pl/116/65/pcc_usc06@116-65.zip\" title=\"Title 6 PCC\">[PCC]</a>,\n",
       " <a href=\"releasepoints/us/pl/116/65/pdf_usc06@116-65.zip\" title=\"Title 6 PDF\">[PDF]</a>,\n",
       " <a href=\"releasepoints/us/pl/116/65/xml_usc07@116-65.zip\" title=\"Title 7 XML\">[XML]</a>,\n",
       " <a href=\"releasepoints/us/pl/116/65/htm_usc07@116-65.zip\" title=\"Title 7 XHTML\">[XHTML]</a>,\n",
       " <a href=\"releasepoints/us/pl/116/65/pcc_usc07@116-65.zip\" title=\"Title 7 PCC\">[PCC]</a>,\n",
       " <a href=\"releasepoints/us/pl/116/65/pdf_usc07@116-65.zip\" title=\"Title 7 PDF\">[PDF]</a>,\n",
       " <a href=\"releasepoints/us/pl/116/65/xml_usc08@116-65.zip\" title=\"Title 8 XML\">[XML]</a>,\n",
       " <a href=\"releasepoints/us/pl/116/65/htm_usc08@116-65.zip\" title=\"Title 8 XHTML\">[XHTML]</a>,\n",
       " <a href=\"releasepoints/us/pl/116/65/pcc_usc08@116-65.zip\" title=\"Title 8 PCC\">[PCC]</a>,\n",
       " <a href=\"releasepoints/us/pl/116/65/pdf_usc08@116-65.zip\" title=\"Title 8 PDF\">[PDF]</a>,\n",
       " <a class=\"fn\" href=\"#fn\">٭</a>,\n",
       " <a href=\"releasepoints/us/pl/116/65/xml_usc09@116-65.zip\" title=\"Title 9 XML\">[XML]</a>,\n",
       " <a href=\"releasepoints/us/pl/116/65/htm_usc09@116-65.zip\" title=\"Title 9 XHTML\">[XHTML]</a>,\n",
       " <a href=\"releasepoints/us/pl/116/65/pcc_usc09@116-65.zip\" title=\"Title 9 PCC\">[PCC]</a>,\n",
       " <a href=\"releasepoints/us/pl/116/65/pdf_usc09@116-65.zip\" title=\"Title 9 PDF\">[PDF]</a>,\n",
       " <a class=\"fn\" href=\"#fn\">٭</a>,\n",
       " <a href=\"releasepoints/us/pl/116/65/xml_usc10@116-65.zip\" title=\"Title 10 XML\">[XML]</a>,\n",
       " <a href=\"releasepoints/us/pl/116/65/htm_usc10@116-65.zip\" title=\"Title 10 XHTML\">[XHTML]</a>,\n",
       " <a href=\"releasepoints/us/pl/116/65/pcc_usc10@116-65.zip\" title=\"Title 10 PCC\">[PCC]</a>,\n",
       " <a href=\"releasepoints/us/pl/116/65/pdf_usc10@116-65.zip\" title=\"Title 10 PDF\">[PDF]</a>,\n",
       " <a class=\"fn\" href=\"#fn\">٭</a>,\n",
       " <a href=\"releasepoints/us/pl/116/65/xml_usc11@116-65.zip\" title=\"Title 11 XML\">[XML]</a>,\n",
       " <a href=\"releasepoints/us/pl/116/65/htm_usc11@116-65.zip\" title=\"Title 11 XHTML\">[XHTML]</a>,\n",
       " <a href=\"releasepoints/us/pl/116/65/pcc_usc11@116-65.zip\" title=\"Title 11 PCC\">[PCC]</a>,\n",
       " <a href=\"releasepoints/us/pl/116/65/pdf_usc11@116-65.zip\" title=\"Title 11 PDF\">[PDF]</a>,\n",
       " <a href=\"releasepoints/us/pl/116/65/xml_usc11a@116-65.zip\" title=\"Title 11 App.  XML\">[XML]</a>,\n",
       " <a href=\"releasepoints/us/pl/116/65/htm_usc11a@116-65.zip\" title=\"Title 11 App. XHTML\">[XHTML]</a>,\n",
       " <a href=\"releasepoints/us/pl/116/65/pcc_usc11a@116-65.zip\" title=\"Title 11 App. PCC\">[PCC]</a>,\n",
       " <a href=\"releasepoints/us/pl/116/65/pdf_usc11a@116-65.zip\" title=\"Title 11 App. PDF\">[PDF]</a>,\n",
       " <a href=\"releasepoints/us/pl/116/65/xml_usc12@116-65.zip\" title=\"Title 12 XML\">[XML]</a>,\n",
       " <a href=\"releasepoints/us/pl/116/65/htm_usc12@116-65.zip\" title=\"Title 12 XHTML\">[XHTML]</a>,\n",
       " <a href=\"releasepoints/us/pl/116/65/pcc_usc12@116-65.zip\" title=\"Title 12 PCC\">[PCC]</a>,\n",
       " <a href=\"releasepoints/us/pl/116/65/pdf_usc12@116-65.zip\" title=\"Title 12 PDF\">[PDF]</a>,\n",
       " <a class=\"fn\" href=\"#fn\">٭</a>,\n",
       " <a href=\"releasepoints/us/pl/116/65/xml_usc13@116-65.zip\" title=\"Title 13 XML\">[XML]</a>,\n",
       " <a href=\"releasepoints/us/pl/116/65/htm_usc13@116-65.zip\" title=\"Title 13 XHTML\">[XHTML]</a>,\n",
       " <a href=\"releasepoints/us/pl/116/65/pcc_usc13@116-65.zip\" title=\"Title 13 PCC\">[PCC]</a>,\n",
       " <a href=\"releasepoints/us/pl/116/65/pdf_usc13@116-65.zip\" title=\"Title 13 PDF\">[PDF]</a>,\n",
       " <a class=\"fn\" href=\"#fn\">٭</a>,\n",
       " <a href=\"releasepoints/us/pl/116/65/xml_usc14@116-65.zip\" title=\"Title 14 XML\">[XML]</a>,\n",
       " <a href=\"releasepoints/us/pl/116/65/htm_usc14@116-65.zip\" title=\"Title 14 XHTML\">[XHTML]</a>,\n",
       " <a href=\"releasepoints/us/pl/116/65/pcc_usc14@116-65.zip\" title=\"Title 14 PCC\">[PCC]</a>,\n",
       " <a href=\"releasepoints/us/pl/116/65/pdf_usc14@116-65.zip\" title=\"Title 14 PDF\">[PDF]</a>,\n",
       " <a href=\"releasepoints/us/pl/116/65/xml_usc15@116-65.zip\" title=\"Title 15 XML\">[XML]</a>,\n",
       " <a href=\"releasepoints/us/pl/116/65/htm_usc15@116-65.zip\" title=\"Title 15 XHTML\">[XHTML]</a>,\n",
       " <a href=\"releasepoints/us/pl/116/65/pcc_usc15@116-65.zip\" title=\"Title 15 PCC\">[PCC]</a>,\n",
       " <a href=\"releasepoints/us/pl/116/65/pdf_usc15@116-65.zip\" title=\"Title 15 PDF\">[PDF]</a>,\n",
       " <a href=\"releasepoints/us/pl/116/65/xml_usc16@116-65.zip\" title=\"Title 16 XML\">[XML]</a>,\n",
       " <a href=\"releasepoints/us/pl/116/65/htm_usc16@116-65.zip\" title=\"Title 16 XHTML\">[XHTML]</a>,\n",
       " <a href=\"releasepoints/us/pl/116/65/pcc_usc16@116-65.zip\" title=\"Title 16 PCC\">[PCC]</a>,\n",
       " <a href=\"releasepoints/us/pl/116/65/pdf_usc16@116-65.zip\" title=\"Title 16 PDF\">[PDF]</a>,\n",
       " <a class=\"fn\" href=\"#fn\">٭</a>,\n",
       " <a href=\"releasepoints/us/pl/116/65/xml_usc17@116-65.zip\" title=\"Title 17 XML\">[XML]</a>,\n",
       " <a href=\"releasepoints/us/pl/116/65/htm_usc17@116-65.zip\" title=\"Title 17 XHTML\">[XHTML]</a>,\n",
       " <a href=\"releasepoints/us/pl/116/65/pcc_usc17@116-65.zip\" title=\"Title 17 PCC\">[PCC]</a>,\n",
       " <a href=\"releasepoints/us/pl/116/65/pdf_usc17@116-65.zip\" title=\"Title 17 PDF\">[PDF]</a>,\n",
       " <a class=\"fn\" href=\"#fn\">٭</a>,\n",
       " <a href=\"releasepoints/us/pl/116/65/xml_usc18@116-65.zip\" title=\"Title 18 XML\">[XML]</a>,\n",
       " <a href=\"releasepoints/us/pl/116/65/htm_usc18@116-65.zip\" title=\"Title 18 XHTML\">[XHTML]</a>,\n",
       " <a href=\"releasepoints/us/pl/116/65/pcc_usc18@116-65.zip\" title=\"Title 18 PCC\">[PCC]</a>,\n",
       " <a href=\"releasepoints/us/pl/116/65/pdf_usc18@116-65.zip\" title=\"Title 18 PDF\">[PDF]</a>,\n",
       " <a href=\"releasepoints/us/pl/116/65/xml_usc18a@116-65.zip\" title=\"Title 18 App. XML\">[XML]</a>,\n",
       " <a href=\"releasepoints/us/pl/116/65/htm_usc18a@116-65.zip\" title=\"Title 18 App. XHTML\">[XHTML]</a>,\n",
       " <a href=\"releasepoints/us/pl/116/65/pcc_usc18a@116-65.zip\" title=\"Title 18 App. PCC\">[PCC]</a>,\n",
       " <a href=\"releasepoints/us/pl/116/65/pdf_usc18a@116-65.zip\" title=\"Title 18 App. PDF\">[PDF]</a>,\n",
       " <a href=\"releasepoints/us/pl/116/65/xml_usc19@116-65.zip\" title=\"Title 19 XML\">[XML]</a>,\n",
       " <a href=\"releasepoints/us/pl/116/65/htm_usc19@116-65.zip\" title=\"Title 19 XHTML\">[XHTML]</a>,\n",
       " <a href=\"releasepoints/us/pl/116/65/pcc_usc19@116-65.zip\" title=\"Title 19 PCC\">[PCC]</a>,\n",
       " <a href=\"releasepoints/us/pl/116/65/pdf_usc19@116-65.zip\" title=\"Title 19 PDF\">[PDF]</a>,\n",
       " <a href=\"releasepoints/us/pl/116/65/xml_usc20@116-65.zip\" title=\"Title 20 XML\">[XML]</a>,\n",
       " <a href=\"releasepoints/us/pl/116/65/htm_usc20@116-65.zip\" title=\"Title 20 XHTML\">[XHTML]</a>,\n",
       " <a href=\"releasepoints/us/pl/116/65/pcc_usc20@116-65.zip\" title=\"Title 20 PCC\">[PCC]</a>,\n",
       " <a href=\"releasepoints/us/pl/116/65/pdf_usc20@116-65.zip\" title=\"Title 20 PDF\">[PDF]</a>,\n",
       " <a href=\"releasepoints/us/pl/116/65/xml_usc21@116-65.zip\" title=\"Title 21 XML\">[XML]</a>,\n",
       " <a href=\"releasepoints/us/pl/116/65/htm_usc21@116-65.zip\" title=\"Title 21 XHTML\">[XHTML]</a>,\n",
       " <a href=\"releasepoints/us/pl/116/65/pcc_usc21@116-65.zip\" title=\"Title 21 PCC\">[PCC]</a>,\n",
       " <a href=\"releasepoints/us/pl/116/65/pdf_usc21@116-65.zip\" title=\"Title 21 PDF\">[PDF]</a>,\n",
       " <a href=\"releasepoints/us/pl/116/65/xml_usc22@116-65.zip\" title=\"Title 22 XML\">[XML]</a>,\n",
       " <a href=\"releasepoints/us/pl/116/65/htm_usc22@116-65.zip\" title=\"Title 22 XHTML\">[XHTML]</a>,\n",
       " <a href=\"releasepoints/us/pl/116/65/pcc_usc22@116-65.zip\" title=\"Title 22 PCC\">[PCC]</a>,\n",
       " <a href=\"releasepoints/us/pl/116/65/pdf_usc22@116-65.zip\" title=\"Title 22 PDF\">[PDF]</a>,\n",
       " <a class=\"fn\" href=\"#fn\">٭</a>,\n",
       " <a href=\"releasepoints/us/pl/116/65/xml_usc23@116-65.zip\" title=\"Title 23 XML\">[XML]</a>,\n",
       " <a href=\"releasepoints/us/pl/116/65/htm_usc23@116-65.zip\" title=\"Title 23 XHTML\">[XHTML]</a>,\n",
       " <a href=\"releasepoints/us/pl/116/65/pcc_usc23@116-65.zip\" title=\"Title 23 PCC\">[PCC]</a>,\n",
       " <a href=\"releasepoints/us/pl/116/65/pdf_usc23@116-65.zip\" title=\"Title 23 PDF\">[PDF]</a>,\n",
       " <a href=\"releasepoints/us/pl/116/65/xml_usc24@116-65.zip\" title=\"Title 24 XML\">[XML]</a>,\n",
       " <a href=\"releasepoints/us/pl/116/65/htm_usc24@116-65.zip\" title=\"Title 24 XHTML\">[XHTML]</a>,\n",
       " <a href=\"releasepoints/us/pl/116/65/pcc_usc24@116-65.zip\" title=\"Title 24 PCC\">[PCC]</a>,\n",
       " <a href=\"releasepoints/us/pl/116/65/pdf_usc24@116-65.zip\" title=\"Title 24 PDF\">[PDF]</a>,\n",
       " <a href=\"releasepoints/us/pl/116/65/xml_usc25@116-65.zip\" title=\"Title 25 XML\">[XML]</a>,\n",
       " <a href=\"releasepoints/us/pl/116/65/htm_usc25@116-65.zip\" title=\"Title 25 XHTML\">[XHTML]</a>,\n",
       " <a href=\"releasepoints/us/pl/116/65/pcc_usc25@116-65.zip\" title=\"Title 25 PCC\">[PCC]</a>,\n",
       " <a href=\"releasepoints/us/pl/116/65/pdf_usc25@116-65.zip\" title=\"Title 25 PDF\">[PDF]</a>,\n",
       " <a href=\"releasepoints/us/pl/116/65/xml_usc26@116-65.zip\" title=\"Title 26 XML\">[XML]</a>,\n",
       " <a href=\"releasepoints/us/pl/116/65/htm_usc26@116-65.zip\" title=\"Title 26 XHTML\">[XHTML]</a>,\n",
       " <a href=\"releasepoints/us/pl/116/65/pcc_usc26@116-65.zip\" title=\"Title 26 PCC\">[PCC]</a>,\n",
       " <a href=\"releasepoints/us/pl/116/65/pdf_usc26@116-65.zip\" title=\"Title 26 PDF\">[PDF]</a>,\n",
       " <a href=\"releasepoints/us/pl/116/65/xml_usc27@116-65.zip\" title=\"Title 27 XML\">[XML]</a>,\n",
       " <a href=\"releasepoints/us/pl/116/65/htm_usc27@116-65.zip\" title=\"Title 27 XHTML\">[XHTML]</a>,\n",
       " <a href=\"releasepoints/us/pl/116/65/pcc_usc27@116-65.zip\" title=\"Title 27 PCC\">[PCC]</a>,\n",
       " <a href=\"releasepoints/us/pl/116/65/pdf_usc27@116-65.zip\" title=\"Title 27 PDF\">[PDF]</a>,\n",
       " <a class=\"fn\" href=\"#fn\">٭</a>,\n",
       " <a href=\"releasepoints/us/pl/116/65/xml_usc28@116-65.zip\" title=\"Title 28 XML\">[XML]</a>,\n",
       " <a href=\"releasepoints/us/pl/116/65/htm_usc28@116-65.zip\" title=\"Title 28 XHTML\">[XHTML]</a>,\n",
       " <a href=\"releasepoints/us/pl/116/65/pcc_usc28@116-65.zip\" title=\"Title 28 PCC\">[PCC]</a>,\n",
       " <a href=\"releasepoints/us/pl/116/65/pdf_usc28@116-65.zip\" title=\"Title 28 PDF\">[PDF]</a>,\n",
       " <a href=\"releasepoints/us/pl/116/65/xml_usc28a@116-65.zip\" title=\"Title 28 App. XML\">[XML]</a>,\n",
       " <a href=\"releasepoints/us/pl/116/65/htm_usc28a@116-65.zip\" title=\"Title 28 App. XHTML\">[XHTML]</a>,\n",
       " <a href=\"releasepoints/us/pl/116/65/pcc_usc28a@116-65.zip\" title=\"Title 28 App. PCC\">[PCC]</a>,\n",
       " <a href=\"releasepoints/us/pl/116/65/pdf_usc28a@116-65.zip\" title=\"Title 28 App. PDF\">[PDF]</a>,\n",
       " <a href=\"releasepoints/us/pl/116/65/xml_usc29@116-65.zip\" title=\"Title 29 XML\">[XML]</a>,\n",
       " <a href=\"releasepoints/us/pl/116/65/htm_usc29@116-65.zip\" title=\"Title 29 XHTML\">[XHTML]</a>,\n",
       " <a href=\"releasepoints/us/pl/116/65/pcc_usc29@116-65.zip\" title=\"Title 29 PCC\">[PCC]</a>,\n",
       " <a href=\"releasepoints/us/pl/116/65/pdf_usc29@116-65.zip\" title=\"Title 29 PDF\">[PDF]</a>,\n",
       " <a href=\"releasepoints/us/pl/116/65/xml_usc30@116-65.zip\" title=\"Title 30 XML\">[XML]</a>,\n",
       " <a href=\"releasepoints/us/pl/116/65/htm_usc30@116-65.zip\" title=\"Title 30 XHTML\">[XHTML]</a>,\n",
       " <a href=\"releasepoints/us/pl/116/65/pcc_usc30@116-65.zip\" title=\"Title 30 PCC\">[PCC]</a>,\n",
       " <a href=\"releasepoints/us/pl/116/65/pdf_usc30@116-65.zip\" title=\"Title 30 PDF\">[PDF]</a>,\n",
       " <a class=\"fn\" href=\"#fn\">٭</a>,\n",
       " <a href=\"releasepoints/us/pl/116/65/xml_usc31@116-65.zip\" title=\"Title 31 XML\">[XML]</a>,\n",
       " <a href=\"releasepoints/us/pl/116/65/htm_usc31@116-65.zip\" title=\"Title 31 XHTML\">[XHTML]</a>,\n",
       " <a href=\"releasepoints/us/pl/116/65/pcc_usc31@116-65.zip\" title=\"Title 31 PCC\">[PCC]</a>,\n",
       " <a href=\"releasepoints/us/pl/116/65/pdf_usc31@116-65.zip\" title=\"Title 31 PDF\">[PDF]</a>,\n",
       " <a class=\"fn\" href=\"#fn\">٭</a>,\n",
       " <a href=\"releasepoints/us/pl/116/65/xml_usc32@116-65.zip\" title=\"Title 32 XML\">[XML]</a>,\n",
       " <a href=\"releasepoints/us/pl/116/65/htm_usc32@116-65.zip\" title=\"Title 32 XHTML\">[XHTML]</a>,\n",
       " <a href=\"releasepoints/us/pl/116/65/pcc_usc32@116-65.zip\" title=\"Title 32 PCC\">[PCC]</a>,\n",
       " <a href=\"releasepoints/us/pl/116/65/pdf_usc32@116-65.zip\" title=\"Title 32 PDF\">[PDF]</a>,\n",
       " <a href=\"releasepoints/us/pl/116/65/xml_usc33@116-65.zip\" title=\"Title 33 XML\">[XML]</a>,\n",
       " <a href=\"releasepoints/us/pl/116/65/htm_usc33@116-65.zip\" title=\"Title 33 XHTML\">[XHTML]</a>,\n",
       " <a href=\"releasepoints/us/pl/116/65/pcc_usc33@116-65.zip\" title=\"Title 33 PCC\">[PCC]</a>,\n",
       " <a href=\"releasepoints/us/pl/116/65/pdf_usc33@116-65.zip\" title=\"Title 33 PDF\">[PDF]</a>,\n",
       " <a href=\"releasepoints/us/pl/116/65/xml_usc34@116-65.zip\" title=\"Title 34 XML\">[XML]</a>,\n",
       " <a href=\"releasepoints/us/pl/116/65/htm_usc34@116-65.zip\" title=\"Title 34 XHTML\">[XHTML]</a>,\n",
       " <a href=\"releasepoints/us/pl/116/65/pcc_usc34@116-65.zip\" title=\"Title 34 PCC\">[PCC]</a>,\n",
       " <a href=\"releasepoints/us/pl/116/65/pdf_usc34@116-65.zip\" title=\"Title 34 PDF\">[PDF]</a>,\n",
       " <a class=\"fn\" href=\"#fn\">٭</a>,\n",
       " <a href=\"releasepoints/us/pl/116/65/xml_usc35@116-65.zip\" title=\"Title 35 XML\">[XML]</a>,\n",
       " <a href=\"releasepoints/us/pl/116/65/htm_usc35@116-65.zip\" title=\"Title 35 XHTML\">[XHTML]</a>,\n",
       " <a href=\"releasepoints/us/pl/116/65/pcc_usc35@116-65.zip\" title=\"Title 35 PCC\">[PCC]</a>,\n",
       " <a href=\"releasepoints/us/pl/116/65/pdf_usc35@116-65.zip\" title=\"Title 35 PDF\">[PDF]</a>,\n",
       " <a class=\"fn\" href=\"#fn\">٭</a>,\n",
       " <a href=\"releasepoints/us/pl/116/65/xml_usc36@116-65.zip\" title=\"Title 36 XML\">[XML]</a>,\n",
       " <a href=\"releasepoints/us/pl/116/65/htm_usc36@116-65.zip\" title=\"Title 36 XHTML\">[XHTML]</a>,\n",
       " <a href=\"releasepoints/us/pl/116/65/pcc_usc36@116-65.zip\" title=\"Title 36 PCC\">[PCC]</a>,\n",
       " <a href=\"releasepoints/us/pl/116/65/pdf_usc36@116-65.zip\" title=\"Title 36 PDF\">[PDF]</a>,\n",
       " <a class=\"fn\" href=\"#fn\">٭</a>,\n",
       " <a href=\"releasepoints/us/pl/116/65/xml_usc37@116-65.zip\" title=\"Title 37 XML\">[XML]</a>,\n",
       " <a href=\"releasepoints/us/pl/116/65/htm_usc37@116-65.zip\" title=\"Title 37 XHTML\">[XHTML]</a>,\n",
       " <a href=\"releasepoints/us/pl/116/65/pcc_usc37@116-65.zip\" title=\"Title 37 PCC\">[PCC]</a>,\n",
       " <a href=\"releasepoints/us/pl/116/65/pdf_usc37@116-65.zip\" title=\"Title 37 PDF\">[PDF]</a>,\n",
       " <a class=\"fn\" href=\"#fn\">٭</a>,\n",
       " <a href=\"releasepoints/us/pl/116/65/xml_usc38@116-65.zip\" title=\"Title 38 XML\">[XML]</a>,\n",
       " <a href=\"releasepoints/us/pl/116/65/htm_usc38@116-65.zip\" title=\"Title 38 XHTML\">[XHTML]</a>,\n",
       " <a href=\"releasepoints/us/pl/116/65/pcc_usc38@116-65.zip\" title=\"Title 38 PCC\">[PCC]</a>,\n",
       " <a href=\"releasepoints/us/pl/116/65/pdf_usc38@116-65.zip\" title=\"Title 38 PDF\">[PDF]</a>,\n",
       " <a class=\"fn\" href=\"#fn\">٭</a>,\n",
       " <a href=\"releasepoints/us/pl/116/65/xml_usc39@116-65.zip\" title=\"Title 39 XML\">[XML]</a>,\n",
       " <a href=\"releasepoints/us/pl/116/65/htm_usc39@116-65.zip\" title=\"Title 39 XHTML\">[XHTML]</a>,\n",
       " <a href=\"releasepoints/us/pl/116/65/pcc_usc39@116-65.zip\" title=\"Title 39 PCC\">[PCC]</a>,\n",
       " <a href=\"releasepoints/us/pl/116/65/pdf_usc39@116-65.zip\" title=\"Title 39 PDF\">[PDF]</a>,\n",
       " <a class=\"fn\" href=\"#fn\">٭</a>,\n",
       " <a href=\"releasepoints/us/pl/116/65/xml_usc40@116-65.zip\" title=\"Title 40 XML\">[XML]</a>,\n",
       " <a href=\"releasepoints/us/pl/116/65/htm_usc40@116-65.zip\" title=\"Title 40 XHTML\">[XHTML]</a>,\n",
       " <a href=\"releasepoints/us/pl/116/65/pcc_usc40@116-65.zip\" title=\"Title 40 PCC\">[PCC]</a>,\n",
       " <a href=\"releasepoints/us/pl/116/65/pdf_usc40@116-65.zip\" title=\"Title 40 PDF\">[PDF]</a>,\n",
       " <a class=\"fn\" href=\"#fn\">٭</a>,\n",
       " <a href=\"releasepoints/us/pl/116/65/xml_usc41@116-65.zip\" title=\"Title 41 XML\">[XML]</a>,\n",
       " <a href=\"releasepoints/us/pl/116/65/htm_usc41@116-65.zip\" title=\"Title 41 XHTML\">[XHTML]</a>,\n",
       " <a href=\"releasepoints/us/pl/116/65/pcc_usc41@116-65.zip\" title=\"Title 41 PCC\">[PCC]</a>,\n",
       " <a href=\"releasepoints/us/pl/116/65/pdf_usc41@116-65.zip\" title=\"Title 41 PDF\">[PDF]</a>,\n",
       " <a href=\"releasepoints/us/pl/116/65/xml_usc42@116-65.zip\" title=\"Title 42 XML\">[XML]</a>,\n",
       " <a href=\"releasepoints/us/pl/116/65/htm_usc42@116-65.zip\" title=\"Title 42 XHTML\">[XHTML]</a>,\n",
       " <a href=\"releasepoints/us/pl/116/65/pcc_usc42@116-65.zip\" title=\"Title 42 PCC\">[PCC]</a>,\n",
       " <a href=\"releasepoints/us/pl/116/65/pdf_usc42@116-65.zip\" title=\"Title 42 PDF\">[PDF]</a>,\n",
       " <a href=\"releasepoints/us/pl/116/65/xml_usc43@116-65.zip\" title=\"Title 43 XML\">[XML]</a>,\n",
       " <a href=\"releasepoints/us/pl/116/65/htm_usc43@116-65.zip\" title=\"Title 43 XHTML\">[XHTML]</a>,\n",
       " <a href=\"releasepoints/us/pl/116/65/pcc_usc43@116-65.zip\" title=\"Title 43 PCC\">[PCC]</a>,\n",
       " <a href=\"releasepoints/us/pl/116/65/pdf_usc43@116-65.zip\" title=\"Title 43 PDF\">[PDF]</a>,\n",
       " <a class=\"fn\" href=\"#fn\">٭</a>,\n",
       " <a href=\"releasepoints/us/pl/116/65/xml_usc44@116-65.zip\" title=\"Title 44 XML\">[XML]</a>,\n",
       " <a href=\"releasepoints/us/pl/116/65/htm_usc44@116-65.zip\" title=\"Title 44 XHTML\">[XHTML]</a>,\n",
       " <a href=\"releasepoints/us/pl/116/65/pcc_usc44@116-65.zip\" title=\"Title 44 PCC\">[PCC]</a>,\n",
       " <a href=\"releasepoints/us/pl/116/65/pdf_usc44@116-65.zip\" title=\"Title 44 PDF\">[PDF]</a>,\n",
       " <a href=\"releasepoints/us/pl/116/65/xml_usc45@116-65.zip\" title=\"Title 45 XML\">[XML]</a>,\n",
       " <a href=\"releasepoints/us/pl/116/65/htm_usc45@116-65.zip\" title=\"Title 45 XHTML\">[XHTML]</a>,\n",
       " <a href=\"releasepoints/us/pl/116/65/pcc_usc45@116-65.zip\" title=\"Title 45 PCC\">[PCC]</a>,\n",
       " <a href=\"releasepoints/us/pl/116/65/pdf_usc45@116-65.zip\" title=\"Title 45 PDF\">[PDF]</a>,\n",
       " <a class=\"fn\" href=\"#fn\">٭</a>,\n",
       " <a href=\"releasepoints/us/pl/116/65/xml_usc46@116-65.zip\" title=\"Title 46 XML\">[XML]</a>,\n",
       " <a href=\"releasepoints/us/pl/116/65/htm_usc46@116-65.zip\" title=\"Title 46 XHTML\">[XHTML]</a>,\n",
       " <a href=\"releasepoints/us/pl/116/65/pcc_usc46@116-65.zip\" title=\"Title 46 PCC\">[PCC]</a>,\n",
       " <a href=\"releasepoints/us/pl/116/65/pdf_usc46@116-65.zip\" title=\"Title 46 PDF\">[PDF]</a>,\n",
       " <a href=\"releasepoints/us/pl/116/65/xml_usc47@116-65.zip\" title=\"Title 47 XML\">[XML]</a>,\n",
       " <a href=\"releasepoints/us/pl/116/65/htm_usc47@116-65.zip\" title=\"Title 47 XHTML\">[XHTML]</a>,\n",
       " <a href=\"releasepoints/us/pl/116/65/pcc_usc47@116-65.zip\" title=\"Title 47 PCC\">[PCC]</a>,\n",
       " <a href=\"releasepoints/us/pl/116/65/pdf_usc47@116-65.zip\" title=\"Title 47 PDF\">[PDF]</a>,\n",
       " <a href=\"releasepoints/us/pl/116/65/xml_usc48@116-65.zip\" title=\"Title 48 XML\">[XML]</a>,\n",
       " <a href=\"releasepoints/us/pl/116/65/htm_usc48@116-65.zip\" title=\"Title 48 XHTML\">[XHTML]</a>,\n",
       " <a href=\"releasepoints/us/pl/116/65/pcc_usc48@116-65.zip\" title=\"Title 48 PCC\">[PCC]</a>,\n",
       " <a href=\"releasepoints/us/pl/116/65/pdf_usc48@116-65.zip\" title=\"Title 48 PDF\">[PDF]</a>,\n",
       " <a class=\"fn\" href=\"#fn\">٭</a>,\n",
       " <a href=\"releasepoints/us/pl/116/65/xml_usc49@116-65.zip\" title=\"Title 49 XML\">[XML]</a>,\n",
       " <a href=\"releasepoints/us/pl/116/65/htm_usc49@116-65.zip\" title=\"Title 49 XHTML\">[XHTML]</a>,\n",
       " <a href=\"releasepoints/us/pl/116/65/pcc_usc49@116-65.zip\" title=\"Title 49 PCC\">[PCC]</a>,\n",
       " <a href=\"releasepoints/us/pl/116/65/pdf_usc49@116-65.zip\" title=\"Title 49 PDF\">[PDF]</a>,\n",
       " <a href=\"releasepoints/us/pl/116/65/xml_usc50@116-65.zip\" title=\"Title 50 XML\">[XML]</a>,\n",
       " <a href=\"releasepoints/us/pl/116/65/htm_usc50@116-65.zip\" title=\"Title 50 XHTML\">[XHTML]</a>,\n",
       " <a href=\"releasepoints/us/pl/116/65/pcc_usc50@116-65.zip\" title=\"Title 50 PCC\">[PCC]</a>,\n",
       " <a href=\"releasepoints/us/pl/116/65/pdf_usc50@116-65.zip\" title=\"Title 50 PDF\">[PDF]</a>,\n",
       " <a href=\"releasepoints/us/pl/116/65/xml_usc50a@116-65.zip\" title=\"Title 50 App. XML\">[XML]</a>,\n",
       " <a href=\"releasepoints/us/pl/116/65/htm_usc50a@116-65.zip\" title=\"Title 50 App. XHTML\">[XHTML]</a>,\n",
       " <a href=\"releasepoints/us/pl/116/65/pcc_usc50a@116-65.zip\" title=\"Title 50 App. PCC\">[PCC]</a>,\n",
       " <a href=\"releasepoints/us/pl/116/65/pdf_usc50a@116-65.zip\" title=\"Title 50 App. PDF\">[PDF]</a>,\n",
       " <a class=\"fn\" href=\"#fn\">٭</a>,\n",
       " <a href=\"releasepoints/us/pl/116/65/xml_usc51@116-65.zip\" title=\"Title 51 XML\">[XML]</a>,\n",
       " <a href=\"releasepoints/us/pl/116/65/htm_usc51@116-65.zip\" title=\"Title 51 XHTML\">[XHTML]</a>,\n",
       " <a href=\"releasepoints/us/pl/116/65/pcc_usc51@116-65.zip\" title=\"Title 51 PCC\">[PCC]</a>,\n",
       " <a href=\"releasepoints/us/pl/116/65/pdf_usc51@116-65.zip\" title=\"Title 51 PDF\">[PDF]</a>,\n",
       " <a href=\"releasepoints/us/pl/116/65/xml_usc52@116-65.zip\" title=\"Title 52 XML\">[XML]</a>,\n",
       " <a href=\"releasepoints/us/pl/116/65/htm_usc52@116-65.zip\" title=\"Title 52 XHTML\">[XHTML]</a>,\n",
       " <a href=\"releasepoints/us/pl/116/65/pcc_usc52@116-65.zip\" title=\"Title 52 PCC\">[PCC]</a>,\n",
       " <a href=\"releasepoints/us/pl/116/65/pdf_usc52@116-65.zip\" title=\"Title 52 PDF\">[PDF]</a>,\n",
       " <a href=\"releasepoints/us/pl/116/65/xml_usc53@116-65.zip\" title=\"Title 53 XML\">[XML]</a>,\n",
       " <a href=\"releasepoints/us/pl/116/65/htm_usc53@116-65.zip\" title=\"Title 53 XHTML\">[XHTML]</a>,\n",
       " <a href=\"releasepoints/us/pl/116/65/pcc_usc53@116-65.zip\" title=\"Title 53 PCC\">[PCC]</a>,\n",
       " <a href=\"releasepoints/us/pl/116/65/pdf_usc53@116-65.zip\" title=\"Title 53 PDF\">[PDF]</a>,\n",
       " <a class=\"fn\" href=\"#fn\">٭</a>,\n",
       " <a href=\"releasepoints/us/pl/116/65/xml_usc54@116-65.zip\" title=\"Title 54 XML\">[XML]</a>,\n",
       " <a href=\"releasepoints/us/pl/116/65/htm_usc54@116-65.zip\" title=\"Title 54 XHTML\">[XHTML]</a>,\n",
       " <a href=\"releasepoints/us/pl/116/65/pcc_usc54@116-65.zip\" title=\"Title 54 PCC\">[PCC]</a>,\n",
       " <a href=\"releasepoints/us/pl/116/65/pdf_usc54@116-65.zip\" title=\"Title 54 PDF\">[PDF]</a>,\n",
       " <a href=\"/about_office.xhtml;jsessionid=D205253064745A688B60AF7AEECD12F1\">About the Office</a>,\n",
       " <a href=\"/privacy_policy.xhtml;jsessionid=D205253064745A688B60AF7AEECD12F1\">Privacy Policy</a>,\n",
       " <a href=\"/sitemap.xhtml;jsessionid=D205253064745A688B60AF7AEECD12F1\">Sitemap</a>]"
      ]
     },
     "execution_count": 165,
     "metadata": {},
     "output_type": "execute_result"
    }
   ],
   "source": [
    "#your code\n",
    "res = requests.get(url)\n",
    "res.status_code\n",
    "html = res.text\n",
    "soup = BeautifulSoup(html, 'html.parser')\n",
    "links = soup.findAll('')\n",
    "links"
   ]
  },
  {
   "cell_type": "markdown",
   "metadata": {},
   "source": [
    "#### A Python list with the top ten FBI's Most Wanted names "
   ]
  },
  {
   "cell_type": "code",
   "execution_count": null,
   "metadata": {},
   "outputs": [],
   "source": [
    "# This is the url you will scrape in this exercise\n",
    "url = 'https://www.fbi.gov/wanted/topten'"
   ]
  },
  {
   "cell_type": "code",
   "execution_count": null,
   "metadata": {},
   "outputs": [],
   "source": [
    "#your code "
   ]
  },
  {
   "cell_type": "markdown",
   "metadata": {},
   "source": [
    "####  20 latest earthquakes info (date, time, latitude, longitude and region name) by the EMSC as a pandas dataframe"
   ]
  },
  {
   "cell_type": "code",
   "execution_count": null,
   "metadata": {},
   "outputs": [],
   "source": [
    "# This is the url you will scrape in this exercise\n",
    "url = 'https://www.emsc-csem.org/Earthquake/'"
   ]
  },
  {
   "cell_type": "code",
   "execution_count": null,
   "metadata": {},
   "outputs": [],
   "source": [
    "#your code"
   ]
  },
  {
   "cell_type": "markdown",
   "metadata": {},
   "source": [
    "#### Display the date, days, title, city, country of next 25 hackathon events as a Pandas dataframe table"
   ]
  },
  {
   "cell_type": "code",
   "execution_count": null,
   "metadata": {},
   "outputs": [],
   "source": [
    "# This is the url you will scrape in this exercise\n",
    "url ='https://hackevents.co/hackathons'"
   ]
  },
  {
   "cell_type": "code",
   "execution_count": null,
   "metadata": {},
   "outputs": [],
   "source": [
    "#your code"
   ]
  },
  {
   "cell_type": "markdown",
   "metadata": {},
   "source": [
    "#### Count number of tweets by a given Twitter account."
   ]
  },
  {
   "cell_type": "markdown",
   "metadata": {},
   "source": [
    "You will need to include a ***try/except block*** for account names not found. \n",
    "<br>***Hint:*** the program should count the number of tweets for any provided account"
   ]
  },
  {
   "cell_type": "code",
   "execution_count": null,
   "metadata": {},
   "outputs": [],
   "source": [
    "# This is the url you will scrape in this exercise \n",
    "# You will need to add the account credentials to this url\n",
    "url = 'https://twitter.com/'"
   ]
  },
  {
   "cell_type": "code",
   "execution_count": null,
   "metadata": {},
   "outputs": [],
   "source": [
    "#your code"
   ]
  },
  {
   "cell_type": "markdown",
   "metadata": {},
   "source": [
    "#### Number of followers of a given twitter account"
   ]
  },
  {
   "cell_type": "markdown",
   "metadata": {},
   "source": [
    "You will need to include a ***try/except block*** in case account/s name not found. \n",
    "<br>***Hint:*** the program should count the followers for any provided account"
   ]
  },
  {
   "cell_type": "code",
   "execution_count": null,
   "metadata": {},
   "outputs": [],
   "source": [
    "# This is the url you will scrape in this exercise \n",
    "# You will need to add the account credentials to this url\n",
    "url = 'https://twitter.com/'"
   ]
  },
  {
   "cell_type": "code",
   "execution_count": null,
   "metadata": {},
   "outputs": [],
   "source": [
    "#your code"
   ]
  },
  {
   "cell_type": "markdown",
   "metadata": {},
   "source": [
    "#### List all language names and number of related articles in the order they appear in wikipedia.org"
   ]
  },
  {
   "cell_type": "code",
   "execution_count": null,
   "metadata": {},
   "outputs": [],
   "source": [
    "# This is the url you will scrape in this exercise\n",
    "url = 'https://www.wikipedia.org/'"
   ]
  },
  {
   "cell_type": "code",
   "execution_count": null,
   "metadata": {},
   "outputs": [],
   "source": [
    "#your code"
   ]
  },
  {
   "cell_type": "markdown",
   "metadata": {},
   "source": [
    "#### A list with the different kind of datasets available in data.gov.uk "
   ]
  },
  {
   "cell_type": "code",
   "execution_count": null,
   "metadata": {},
   "outputs": [],
   "source": [
    "# This is the url you will scrape in this exercise\n",
    "url = 'https://data.gov.uk/'"
   ]
  },
  {
   "cell_type": "code",
   "execution_count": null,
   "metadata": {},
   "outputs": [],
   "source": [
    "#your code "
   ]
  },
  {
   "cell_type": "markdown",
   "metadata": {},
   "source": [
    "#### Top 10 languages by number of native speakers stored in a Pandas Dataframe"
   ]
  },
  {
   "cell_type": "code",
   "execution_count": null,
   "metadata": {},
   "outputs": [],
   "source": [
    "# This is the url you will scrape in this exercise\n",
    "url = 'https://en.wikipedia.org/wiki/List_of_languages_by_number_of_native_speakers'"
   ]
  },
  {
   "cell_type": "code",
   "execution_count": null,
   "metadata": {},
   "outputs": [],
   "source": [
    "#your code"
   ]
  },
  {
   "cell_type": "markdown",
   "metadata": {},
   "source": [
    "### BONUS QUESTIONS"
   ]
  },
  {
   "cell_type": "markdown",
   "metadata": {},
   "source": [
    "#### Scrape a certain number of tweets of a given Twitter account."
   ]
  },
  {
   "cell_type": "code",
   "execution_count": null,
   "metadata": {},
   "outputs": [],
   "source": [
    "# This is the url you will scrape in this exercise \n",
    "# You will need to add the account credentials to this url\n",
    "url = 'https://twitter.com/'"
   ]
  },
  {
   "cell_type": "code",
   "execution_count": null,
   "metadata": {},
   "outputs": [],
   "source": [
    "# your code"
   ]
  },
  {
   "cell_type": "markdown",
   "metadata": {},
   "source": [
    "#### IMDB's Top 250 data (movie name, Initial release, director name and stars) as a pandas dataframe"
   ]
  },
  {
   "cell_type": "code",
   "execution_count": null,
   "metadata": {},
   "outputs": [],
   "source": [
    "# This is the url you will scrape in this exercise \n",
    "url = 'https://www.imdb.com/chart/top'"
   ]
  },
  {
   "cell_type": "code",
   "execution_count": null,
   "metadata": {},
   "outputs": [],
   "source": [
    "# your code"
   ]
  },
  {
   "cell_type": "markdown",
   "metadata": {},
   "source": [
    "#### Movie name, year and a brief summary of the top 10 random movies (IMDB) as a pandas dataframe."
   ]
  },
  {
   "cell_type": "code",
   "execution_count": null,
   "metadata": {},
   "outputs": [],
   "source": [
    "#This is the url you will scrape in this exercise\n",
    "url = 'http://www.imdb.com/chart/top'"
   ]
  },
  {
   "cell_type": "code",
   "execution_count": null,
   "metadata": {},
   "outputs": [],
   "source": [
    "#your code"
   ]
  },
  {
   "cell_type": "markdown",
   "metadata": {},
   "source": [
    "#### Find the live weather report (temperature, wind speed, description and weather) of a given city."
   ]
  },
  {
   "cell_type": "code",
   "execution_count": null,
   "metadata": {},
   "outputs": [],
   "source": [
    "#https://openweathermap.org/current\n",
    "city = city=input('Enter the city:')\n",
    "url = 'http://api.openweathermap.org/data/2.5/weather?'+'q='+city+'&APPID=b35975e18dc93725acb092f7272cc6b8&units=metric'"
   ]
  },
  {
   "cell_type": "code",
   "execution_count": null,
   "metadata": {},
   "outputs": [],
   "source": [
    "# your code"
   ]
  },
  {
   "cell_type": "markdown",
   "metadata": {},
   "source": [
    "#### Book name,price and stock availability as a pandas dataframe."
   ]
  },
  {
   "cell_type": "code",
   "execution_count": null,
   "metadata": {},
   "outputs": [],
   "source": [
    "# This is the url you will scrape in this exercise. \n",
    "# It is a fictional bookstore created to be scraped. \n",
    "url = 'http://books.toscrape.com/'"
   ]
  },
  {
   "cell_type": "code",
   "execution_count": null,
   "metadata": {},
   "outputs": [],
   "source": [
    "#your code"
   ]
  }
 ],
 "metadata": {
  "kernelspec": {
   "display_name": "Python 3",
   "language": "python",
   "name": "python3"
  },
  "language_info": {
   "codemirror_mode": {
    "name": "ipython",
    "version": 3
   },
   "file_extension": ".py",
   "mimetype": "text/x-python",
   "name": "python",
   "nbconvert_exporter": "python",
   "pygments_lexer": "ipython3",
   "version": "3.7.3"
  }
 },
 "nbformat": 4,
 "nbformat_minor": 2
}
